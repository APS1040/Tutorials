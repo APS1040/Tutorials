{
 "cells": [
  {
   "cell_type": "markdown",
   "metadata": {},
   "source": [
    "# Python Solutions Tutorial 05"
   ]
  },
  {
   "cell_type": "code",
   "execution_count": 3,
   "metadata": {},
   "outputs": [
    {
     "data": {
      "text/html": [
       "<div>\n",
       "<style scoped>\n",
       "    .dataframe tbody tr th:only-of-type {\n",
       "        vertical-align: middle;\n",
       "    }\n",
       "\n",
       "    .dataframe tbody tr th {\n",
       "        vertical-align: top;\n",
       "    }\n",
       "\n",
       "    .dataframe thead th {\n",
       "        text-align: right;\n",
       "    }\n",
       "</style>\n",
       "<table border=\"1\" class=\"dataframe\">\n",
       "  <thead>\n",
       "    <tr style=\"text-align: right;\">\n",
       "      <th></th>\n",
       "      <th>day</th>\n",
       "      <th>insurance_nonc</th>\n",
       "      <th>Sample</th>\n",
       "      <th>Defective Items</th>\n",
       "    </tr>\n",
       "  </thead>\n",
       "  <tbody>\n",
       "    <tr>\n",
       "      <th>0</th>\n",
       "      <td>1</td>\n",
       "      <td>0</td>\n",
       "      <td>1.0</td>\n",
       "      <td>4.0</td>\n",
       "    </tr>\n",
       "    <tr>\n",
       "      <th>1</th>\n",
       "      <td>2</td>\n",
       "      <td>3</td>\n",
       "      <td>2.0</td>\n",
       "      <td>3.0</td>\n",
       "    </tr>\n",
       "    <tr>\n",
       "      <th>2</th>\n",
       "      <td>3</td>\n",
       "      <td>4</td>\n",
       "      <td>3.0</td>\n",
       "      <td>5.0</td>\n",
       "    </tr>\n",
       "    <tr>\n",
       "      <th>3</th>\n",
       "      <td>4</td>\n",
       "      <td>6</td>\n",
       "      <td>4.0</td>\n",
       "      <td>3.0</td>\n",
       "    </tr>\n",
       "    <tr>\n",
       "      <th>4</th>\n",
       "      <td>5</td>\n",
       "      <td>5</td>\n",
       "      <td>5.0</td>\n",
       "      <td>2.0</td>\n",
       "    </tr>\n",
       "  </tbody>\n",
       "</table>\n",
       "</div>"
      ],
      "text/plain": [
       "   day  insurance_nonc  Sample  Defective Items\n",
       "0    1               0     1.0              4.0\n",
       "1    2               3     2.0              3.0\n",
       "2    3               4     3.0              5.0\n",
       "3    4               6     4.0              3.0\n",
       "4    5               5     5.0              2.0"
      ]
     },
     "execution_count": 3,
     "metadata": {},
     "output_type": "execute_result"
    }
   ],
   "source": [
    "import numpy as np\n",
    "import pandas as pd\n",
    "import scipy.stats as stat\n",
    "import math as mt\n",
    "\n",
    "#url = 'https://raw.githubusercontent.com/APS1040/Tutorials/main/Tutorial05_data.csv'\n",
    "#df = pd.read_csv(url)\n",
    "\n",
    "df = pd.read_csv('Tutorial05_data.csv')\n",
    "df.head()"
   ]
  },
  {
   "cell_type": "markdown",
   "metadata": {},
   "source": [
    "## 1.\tThe dataset contains data on examination of medical insurance claims. Every day 50 claims were examined. Set up the fraction nonconforming control chart for this process."
   ]
  },
  {
   "cell_type": "code",
   "execution_count": 4,
   "metadata": {},
   "outputs": [
    {
     "name": "stdout",
     "output_type": "stream",
     "text": [
      "0.107 0.2381456442280871 0\n"
     ]
    }
   ],
   "source": [
    "# p-chart\n",
    "n = 50\n",
    "m = 20 \n",
    "CL = df['insurance_nonc'].sum()/(m*n)\n",
    "UCL = CL + 3* np.sqrt(CL*(1-CL)/n)\n",
    "LCL = max(CL - 3* np.sqrt(CL*(1-CL)/n),0)\n",
    "p_hat = df['insurance_nonc']/n\n",
    "print(CL, UCL, LCL)"
   ]
  },
  {
   "cell_type": "code",
   "execution_count": 5,
   "metadata": {},
   "outputs": [
    {
     "name": "stdout",
     "output_type": "stream",
     "text": [
      "16 is out of control\n"
     ]
    }
   ],
   "source": [
    "for i in range(1,m+1):\n",
    "    if(p_hat[i-1] > UCL or p_hat[i-1] < LCL):\n",
    "        print(i, 'is out of control')"
   ]
  },
  {
   "cell_type": "markdown",
   "metadata": {},
   "source": [
    "## 1.a  Is the process in statistical control?"
   ]
  },
  {
   "cell_type": "markdown",
   "metadata": {},
   "source": [
    "Process is out of control"
   ]
  },
  {
   "cell_type": "markdown",
   "metadata": {},
   "source": [
    "## 1.b\tWhat center line and control limits should be used for process monitoring in the next period? "
   ]
  },
  {
   "cell_type": "code",
   "execution_count": 6,
   "metadata": {},
   "outputs": [
    {
     "name": "stdout",
     "output_type": "stream",
     "text": [
      "0.09157894736842105 0.21394971135278268 0\n"
     ]
    }
   ],
   "source": [
    "# exclude 16 from calculations\n",
    "CL = (df['insurance_nonc'].sum()-df['insurance_nonc'][15])/(n*(m-1))\n",
    "UCL = CL + 3* np.sqrt(CL*(1-CL)/n)\n",
    "LCL = max(CL - 3* np.sqrt(CL*(1-CL)/n),0)\n",
    "print(CL, UCL, LCL)\n",
    "n = 1"
   ]
  },
  {
   "cell_type": "code",
   "execution_count": 7,
   "metadata": {},
   "outputs": [
    {
     "name": "stdout",
     "output_type": "stream",
     "text": [
      "16 is out of control\n"
     ]
    }
   ],
   "source": [
    "for i in range(1,m+1):\n",
    "    if(p_hat[i-1] > UCL or p_hat[i-1] < LCL):\n",
    "        print(i, 'is out of control')"
   ]
  },
  {
   "cell_type": "markdown",
   "metadata": {},
   "source": [
    "No new point is out of control, so this is the final control limits"
   ]
  },
  {
   "cell_type": "markdown",
   "metadata": {},
   "source": [
    "## 1.c\tWhat are the center line and control limits in an np-chart for the process?"
   ]
  },
  {
   "cell_type": "code",
   "execution_count": 8,
   "metadata": {},
   "outputs": [
    {
     "name": "stdout",
     "output_type": "stream",
     "text": [
      "0.09157894736842105 0.21394971135278268 0\n"
     ]
    }
   ],
   "source": [
    "print(n*CL, n*UCL, n*LCL)"
   ]
  },
  {
   "cell_type": "markdown",
   "metadata": {},
   "source": [
    "# 2. Samples of size 50 are taken every hour from a process producing  large steel plates  that is considered either defective or not defective. Fifteen samples are taken and the number of defectives per sample is presented in the dataset."
   ]
  },
  {
   "cell_type": "markdown",
   "metadata": {},
   "source": [
    "## 2.a Construct a $p$-chart to control the fraction of defectives per sample."
   ]
  },
  {
   "cell_type": "code",
   "execution_count": 9,
   "metadata": {},
   "outputs": [
    {
     "name": "stdout",
     "output_type": "stream",
     "text": [
      "0.05466666666666667 0.15111395797129584 0\n"
     ]
    }
   ],
   "source": [
    "CL = df['Defective Items'].mean()/50\n",
    "UCL = CL + 3* np.sqrt(CL*(1-CL)/50)\n",
    "LCL = max(CL - 3* np.sqrt(CL*(1-CL)/50),0)\n",
    "print(CL, UCL, LCL)\n",
    "\n",
    "p_hat = df['Defective Items']/50\n",
    "for n in range(1,16):\n",
    "    if(p_hat[n-1] > UCL or p_hat[n-1] < LCL):\n",
    "        print(n, 'process out of control')\n",
    "    n += 1"
   ]
  },
  {
   "cell_type": "markdown",
   "metadata": {},
   "source": [
    "## 2.b Assume that the in control value of the average fraction of defectives, $\\bar{p}_0$ shifts to a new value $\\bar{p}_1$ equals to 0.8. What is the probability to detect this shift in the first subsequent sample?\n"
   ]
  },
  {
   "cell_type": "code",
   "execution_count": 10,
   "metadata": {},
   "outputs": [
    {
     "name": "stdout",
     "output_type": "stream",
     "text": [
      "0.059261260074892075\n"
     ]
    }
   ],
   "source": [
    "p_bar = CL\n",
    "p_new = 0.08\n",
    "n = 50\n",
    "ub = n*p_bar+3*np.sqrt(n*p_bar*(1-p_bar))\n",
    "lb = max(0,n*p_bar-3*np.sqrt(n*p_bar*(1-p_bar)))\n",
    "beta = stat.binom.cdf(mt.floor(ub),n,p_new)-stat.binom.cdf(mt.floor(lb),n,p_new)\n",
    "print(1-beta)"
   ]
  },
  {
   "cell_type": "code",
   "execution_count": null,
   "metadata": {},
   "outputs": [],
   "source": []
  }
 ],
 "metadata": {
  "kernelspec": {
   "display_name": "Python 3",
   "language": "python",
   "name": "python3"
  },
  "language_info": {
   "codemirror_mode": {
    "name": "ipython",
    "version": 3
   },
   "file_extension": ".py",
   "mimetype": "text/x-python",
   "name": "python",
   "nbconvert_exporter": "python",
   "pygments_lexer": "ipython3",
   "version": "3.7.7"
  }
 },
 "nbformat": 4,
 "nbformat_minor": 4
}
