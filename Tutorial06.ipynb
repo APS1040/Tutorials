{
  "nbformat": 4,
  "nbformat_minor": 0,
  "metadata": {
    "kernelspec": {
      "display_name": "Python 3",
      "language": "python",
      "name": "python3"
    },
    "language_info": {
      "codemirror_mode": {
        "name": "ipython",
        "version": 3
      },
      "file_extension": ".py",
      "mimetype": "text/x-python",
      "name": "python",
      "nbconvert_exporter": "python",
      "pygments_lexer": "ipython3",
      "version": "3.7.7"
    },
    "colab": {
      "name": "Tutorial06.ipynb",
      "provenance": []
    }
  },
  "cells": [
    {
      "cell_type": "markdown",
      "metadata": {
        "id": "r03LyXTvI0Kb"
      },
      "source": [
        "# Python Solutions to Tutorial 06"
      ]
    },
    {
      "cell_type": "code",
      "metadata": {
        "id": "E5S6iGqXI0Kd",
        "outputId": "1390f3f9-f36a-4b11-cbcc-c45d4fb54955",
        "colab": {
          "base_uri": "https://localhost:8080/",
          "height": 202
        }
      },
      "source": [
        "import pandas as pd\n",
        "import numpy as np\n",
        "import matplotlib.pyplot as plt\n",
        "import scipy.stats as stat \n",
        "\n",
        "#df = pd.read_csv('Tutorial06_data.csv')\n",
        "\n",
        "url = 'https://raw.githubusercontent.com/APS1040/Tutorials/main/Tutorial06_data.csv'\n",
        "df = pd.read_csv(url)\n",
        "df.head()"
      ],
      "execution_count": 1,
      "outputs": [
        {
          "output_type": "execute_result",
          "data": {
            "text/html": [
              "<div>\n",
              "<style scoped>\n",
              "    .dataframe tbody tr th:only-of-type {\n",
              "        vertical-align: middle;\n",
              "    }\n",
              "\n",
              "    .dataframe tbody tr th {\n",
              "        vertical-align: top;\n",
              "    }\n",
              "\n",
              "    .dataframe thead th {\n",
              "        text-align: right;\n",
              "    }\n",
              "</style>\n",
              "<table border=\"1\" class=\"dataframe\">\n",
              "  <thead>\n",
              "    <tr style=\"text-align: right;\">\n",
              "      <th></th>\n",
              "      <th>Wafer</th>\n",
              "      <th>Layer thickness</th>\n",
              "    </tr>\n",
              "  </thead>\n",
              "  <tbody>\n",
              "    <tr>\n",
              "      <th>0</th>\n",
              "      <td>1</td>\n",
              "      <td>11</td>\n",
              "    </tr>\n",
              "    <tr>\n",
              "      <th>1</th>\n",
              "      <td>2</td>\n",
              "      <td>16</td>\n",
              "    </tr>\n",
              "    <tr>\n",
              "      <th>2</th>\n",
              "      <td>3</td>\n",
              "      <td>22</td>\n",
              "    </tr>\n",
              "    <tr>\n",
              "      <th>3</th>\n",
              "      <td>4</td>\n",
              "      <td>14</td>\n",
              "    </tr>\n",
              "    <tr>\n",
              "      <th>4</th>\n",
              "      <td>5</td>\n",
              "      <td>34</td>\n",
              "    </tr>\n",
              "  </tbody>\n",
              "</table>\n",
              "</div>"
            ],
            "text/plain": [
              "   Wafer  Layer thickness\n",
              "0      1               11\n",
              "1      2               16\n",
              "2      3               22\n",
              "3      4               14\n",
              "4      5               34"
            ]
          },
          "metadata": {
            "tags": []
          },
          "execution_count": 1
        }
      ]
    },
    {
      "cell_type": "markdown",
      "metadata": {
        "id": "3YKKMgzlI0Ke"
      },
      "source": [
        "## 1.\tThe uniformity of a silicon wafer following an etching process is determined by measuring the layer thickness at several locations and expressing uniformity as the range of the thicknesses. The uniformity determinations for 30 consecutive wafers processed through the etching tool are presented in the dataset. Is there evidence that uniformity is normally distributed?"
      ]
    },
    {
      "cell_type": "code",
      "metadata": {
        "id": "CKdtfRpAI0Ke",
        "outputId": "4b2911b4-e148-4219-dcbf-305fabe130c7"
      },
      "source": [
        "import scipy.stats as stat\n",
        "result=stat.anderson(df['Layer thickness'],'norm') #store results to improve output readability\n",
        "print('Statistic: %.3f' % result.statistic)\n",
        "print('Critical Values:',result.critical_values)\n",
        "print('Significance_level', result.significance_level)\n",
        "stat.probplot(df['Layer thickness'],plot=plt)\n",
        "plt.show()"
      ],
      "execution_count": null,
      "outputs": [
        {
          "output_type": "stream",
          "text": [
            "Statistic: 1.158\n",
            "Critical Values: [0.521 0.593 0.712 0.83  0.988]\n",
            "Significance_level [15.  10.   5.   2.5  1. ]\n"
          ],
          "name": "stdout"
        },
        {
          "output_type": "display_data",
          "data": {
            "image/png": "[encoded data removed]",
            "text/plain": [
              "<Figure size 432x288 with 1 Axes>"
            ]
          },
          "metadata": {
            "tags": [],
            "needs_background": "light"
          }
        }
      ]
    },
    {
      "cell_type": "markdown",
      "metadata": {
        "id": "gE5MQdbhI0Kf"
      },
      "source": [
        "no it's not normal"
      ]
    },
    {
      "cell_type": "markdown",
      "metadata": {
        "id": "aa1_HchUI0Kg"
      },
      "source": [
        "## 2.\tTake the natural logarithm of the data to make it normally distributed. Construct a control chart for individuals and a moving range control chart for uniformity for the etching process using the normally distributed data. Is the process in statistical control?"
      ]
    },
    {
      "cell_type": "code",
      "metadata": {
        "id": "E22kytvDI0Kg",
        "outputId": "7e2eaadb-5491-4434-8717-25f7ef5a7dfd"
      },
      "source": [
        "a=df['Layer thickness'].dropna()\n",
        "ln_a=np.log(a)\n",
        "import scipy.stats as stat\n",
        "result=stat.anderson(ln_a,'norm') #store results to improve output readability\n",
        "print('Statistic: %.3f' % result.statistic)\n",
        "print('Critical Values:',result.critical_values)\n",
        "print('Significance_level', result.significance_level)\n",
        "stat.probplot(ln_a,plot=plt)\n",
        "plt.show()"
      ],
      "execution_count": null,
      "outputs": [
        {
          "output_type": "stream",
          "text": [
            "Statistic: 0.626\n",
            "Critical Values: [0.521 0.593 0.712 0.83  0.988]\n",
            "Significance_level [15.  10.   5.   2.5  1. ]\n"
          ],
          "name": "stdout"
        },
        {
          "output_type": "display_data",
          "data": {
            "image/png": "[encoded data removed]",
            "text/plain": [
              "<Figure size 432x288 with 1 Axes>"
            ]
          },
          "metadata": {
            "tags": [],
            "needs_background": "light"
          }
        }
      ]
    },
    {
      "cell_type": "code",
      "metadata": {
        "id": "-tBjmUfII0Kh",
        "outputId": "1570e914-6485-435c-c8f0-c5aa723c7afb"
      },
      "source": [
        "# now use I-MR\n",
        "m=len(ln_a)\n",
        "MR_samples = []\n",
        "MR_acum=0\n",
        "for i in range (0,m-1):\n",
        "    MR = np.abs(ln_a[i+1]-ln_a[i])\n",
        "    MR_samples.append(MR)\n",
        "    MR_acum = MR_acum + MR\n",
        "\n",
        "MR_bar=MR_acum/(m-1)\n",
        "LCL=0\n",
        "UCL=3.267*MR_bar\n",
        "print(MR_bar,LCL,UCL)\n",
        "    "
      ],
      "execution_count": null,
      "outputs": [
        {
          "output_type": "stream",
          "text": [
            "0.3508855205640929 0 1.1463429956828914\n"
          ],
          "name": "stdout"
        }
      ]
    },
    {
      "cell_type": "code",
      "metadata": {
        "id": "2oINJ5GKI0Ki"
      },
      "source": [
        "for i in range (0,m-1):\n",
        "    if(MR_samples[i]>=UCL):\n",
        "        print(i+1,'out of control')\n"
      ],
      "execution_count": null,
      "outputs": []
    },
    {
      "cell_type": "markdown",
      "metadata": {
        "id": "NrQMFJx6I0Ki"
      },
      "source": [
        "It is in control"
      ]
    },
    {
      "cell_type": "markdown",
      "metadata": {
        "id": "QqzXc6nSI0Ki"
      },
      "source": [
        "## 3.\tWhat is the value of MR-bar?"
      ]
    },
    {
      "cell_type": "code",
      "metadata": {
        "id": "xT78E39-I0Kj",
        "outputId": "8c5a7f27-2bde-46c2-85d9-1b4ddebe7518"
      },
      "source": [
        "print(MR_bar)"
      ],
      "execution_count": null,
      "outputs": [
        {
          "output_type": "stream",
          "text": [
            "0.3508855205640929\n"
          ],
          "name": "stdout"
        }
      ]
    },
    {
      "cell_type": "markdown",
      "metadata": {
        "id": "tOXcJlrwI0Kj"
      },
      "source": [
        "## 4.\tWhat is the estimate of the standard deviation for this process? (for the normally distributed data)."
      ]
    },
    {
      "cell_type": "code",
      "metadata": {
        "id": "ltY8pluhI0Kj",
        "outputId": "a85afbc5-e057-45e1-d01f-391333bcf8e3"
      },
      "source": [
        "print(MR_bar/1.128) # MR/d2"
      ],
      "execution_count": null,
      "outputs": [
        {
          "output_type": "stream",
          "text": [
            "0.3110687239043377\n"
          ],
          "name": "stdout"
        }
      ]
    },
    {
      "cell_type": "markdown",
      "metadata": {
        "id": "L8YwAHhnI0Kj"
      },
      "source": [
        "## 5.\tWhat are the upper and lower control limits for the I-chart?"
      ]
    },
    {
      "cell_type": "code",
      "metadata": {
        "id": "OA7ikjuAI0Kk",
        "outputId": "230b008d-fdaa-4955-9f1b-ac7424718bd4"
      },
      "source": [
        "X_bar = ln_a.mean()\n",
        "UCL=X_bar+2.660*MR_bar #E2\n",
        "LCL=X_bar-2.660*MR_bar\n",
        "print(X_bar,LCL,UCL)\n",
        "\n",
        "for i in range(0,m):\n",
        "    if ()\n"
      ],
      "execution_count": null,
      "outputs": [
        {
          "output_type": "stream",
          "text": [
            "2.653095195248599 1.719739710548112 3.586450679949086\n"
          ],
          "name": "stdout"
        }
      ]
    },
    {
      "cell_type": "markdown",
      "metadata": {
        "id": "kA0e1sZXI0Kk"
      },
      "source": [
        "## 6.\t What is the estimate of the mean for this process? (for the normally distributed data)."
      ]
    },
    {
      "cell_type": "code",
      "metadata": {
        "id": "UDmWhMpDI0Kk",
        "outputId": "f86c652a-021c-4307-8c0e-e0ca9147e382"
      },
      "source": [
        "print(X_bar)"
      ],
      "execution_count": null,
      "outputs": [
        {
          "output_type": "stream",
          "text": [
            "2.653095195248599\n"
          ],
          "name": "stdout"
        }
      ]
    },
    {
      "cell_type": "markdown",
      "metadata": {
        "id": "Oq0fw9-YI0Kk"
      },
      "source": [
        "## 7.\tSuppose the process mean shifts to 2.7. What is the probability of detecting this shift on the X chart on the first subsequent sample? (consider the normally distributed data)."
      ]
    },
    {
      "cell_type": "code",
      "metadata": {
        "id": "hMvo7Ci-I0Kl",
        "outputId": "b5c9e869-6d76-4637-db85-43349a54c046"
      },
      "source": [
        "n=1 # n is 1 when calculating beta for MR-I chart\n",
        "Delta=2.7-X_bar\n",
        "k=Delta/(MR_bar/1.128)\n",
        "Beta=stat.norm.cdf(3-k*np.sqrt(n),0,1)-stat.norm.cdf(-3-k*np.sqrt(n),0,1)\n",
        "print(Beta)\n",
        "print(1-Beta)"
      ],
      "execution_count": null,
      "outputs": [
        {
          "output_type": "stream",
          "text": [
            "0.9969944718041802\n",
            "0.0030055281958197844\n"
          ],
          "name": "stdout"
        }
      ]
    },
    {
      "cell_type": "markdown",
      "metadata": {
        "id": "iFx17EC5I0Kl"
      },
      "source": [
        "## 8.\tWhat is the average run length for the shift described in the previous question?"
      ]
    },
    {
      "cell_type": "code",
      "metadata": {
        "id": "371jAV8yI0Kl",
        "outputId": "fdc6a029-fe3f-49a6-ff69-f2a21aac729a"
      },
      "source": [
        "ARL=1/(1-Beta)\n",
        "print(ARL)"
      ],
      "execution_count": null,
      "outputs": [
        {
          "output_type": "stream",
          "text": [
            "332.7202191584302\n"
          ],
          "name": "stdout"
        }
      ]
    },
    {
      "cell_type": "markdown",
      "metadata": {
        "id": "8euXFSDgI0Kl"
      },
      "source": [
        "## 9.\tFor the shift described previously, what is the probability of detecting this transformation on the 4th sample after its occurrence?"
      ]
    },
    {
      "cell_type": "code",
      "metadata": {
        "id": "aSMJ-cQhI0Kl",
        "outputId": "5d1538de-5ed9-4cf7-c5da-3d741064ef77"
      },
      "source": [
        "Pr=Beta**3*(1-Beta)\n",
        "print(Pr)"
      ],
      "execution_count": null,
      "outputs": [
        {
          "output_type": "stream",
          "text": [
            "0.0029785099636229976\n"
          ],
          "name": "stdout"
        }
      ]
    }
  ]
}