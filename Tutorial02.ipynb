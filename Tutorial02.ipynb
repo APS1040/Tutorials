{
 "cells": [
  {
   "cell_type": "markdown",
   "metadata": {},
   "source": [
    "# Python Solution to Tutorial 02"
   ]
  },
  {
   "cell_type": "code",
   "execution_count": 3,
   "metadata": {},
   "outputs": [
    {
     "data": {
      "text/html": [
       "<div>\n",
       "<style scoped>\n",
       "    .dataframe tbody tr th:only-of-type {\n",
       "        vertical-align: middle;\n",
       "    }\n",
       "\n",
       "    .dataframe tbody tr th {\n",
       "        vertical-align: top;\n",
       "    }\n",
       "\n",
       "    .dataframe thead th {\n",
       "        text-align: right;\n",
       "    }\n",
       "</style>\n",
       "<table border=\"1\" class=\"dataframe\">\n",
       "  <thead>\n",
       "    <tr style=\"text-align: right;\">\n",
       "      <th></th>\n",
       "      <th>Net Contents (Oz)</th>\n",
       "      <th>Day</th>\n",
       "      <th>No of Clients Satisfied</th>\n",
       "      <th>Total No of Clients</th>\n",
       "    </tr>\n",
       "  </thead>\n",
       "  <tbody>\n",
       "    <tr>\n",
       "      <th>0</th>\n",
       "      <td>12.03</td>\n",
       "      <td>1</td>\n",
       "      <td>68</td>\n",
       "      <td>100</td>\n",
       "    </tr>\n",
       "    <tr>\n",
       "      <th>1</th>\n",
       "      <td>12.01</td>\n",
       "      <td>2</td>\n",
       "      <td>77</td>\n",
       "      <td>100</td>\n",
       "    </tr>\n",
       "    <tr>\n",
       "      <th>2</th>\n",
       "      <td>12.00</td>\n",
       "      <td>3</td>\n",
       "      <td>96</td>\n",
       "      <td>100</td>\n",
       "    </tr>\n",
       "    <tr>\n",
       "      <th>3</th>\n",
       "      <td>12.02</td>\n",
       "      <td>4</td>\n",
       "      <td>80</td>\n",
       "      <td>100</td>\n",
       "    </tr>\n",
       "    <tr>\n",
       "      <th>4</th>\n",
       "      <td>12.05</td>\n",
       "      <td>5</td>\n",
       "      <td>43</td>\n",
       "      <td>100</td>\n",
       "    </tr>\n",
       "  </tbody>\n",
       "</table>\n",
       "</div>"
      ],
      "text/plain": [
       "   Net Contents (Oz)  Day  No of Clients Satisfied  Total No of Clients\n",
       "0              12.03    1                       68                  100\n",
       "1              12.01    2                       77                  100\n",
       "2              12.00    3                       96                  100\n",
       "3              12.02    4                       80                  100\n",
       "4              12.05    5                       43                  100"
      ]
     },
     "execution_count": 3,
     "metadata": {},
     "output_type": "execute_result"
    }
   ],
   "source": [
    "import scipy.stats as stat \n",
    "import pandas as pd\n",
    "import numpy as np\n",
    "import matplotlib.pyplot as plt\n",
    "\n",
    "\n",
    "#url = 'https://raw.githubusercontent.com/APS1040/Tutorials/main/Tutorial02_data.csv'\n",
    "#df = pd.read_csv(url)\n",
    "\n",
    "\n",
    "df = pd.read_csv('Tutorial02_data.csv')\n",
    "\n",
    "net_contents = df['Net Contents (Oz)'].dropna()\n",
    "df.head()"
   ]
  },
  {
   "cell_type": "markdown",
   "metadata": {},
   "source": [
    "## 1.\tDoes the data support a population mean of 12?  (Yes/No) What is the p-value?"
   ]
  },
  {
   "cell_type": "markdown",
   "metadata": {},
   "source": [
    "$H_0:\\mu=12$, $H_1:\\mu\\neq 12$. We use a two-sided t-test because the population variance is unknown and n<40. We could use a z-test if n was larger than 40."
   ]
  },
  {
   "cell_type": "code",
   "execution_count": 9,
   "metadata": {},
   "outputs": [
    {
     "name": "stdout",
     "output_type": "stream",
     "text": [
      "p-value =  0.35057055304117135\n"
     ]
    }
   ],
   "source": [
    "n = net_contents.size\n",
    "mu0 = 12\n",
    "x_bar = net_contents.mean()\n",
    "s = net_contents.std()\n",
    "t0 = (x_bar-mu0)/(s/np.sqrt(n))\n",
    "d_f = n-1\n",
    "p_value = 2 * (1 - stat.t.cdf(t0,df=d_f))\n",
    "print(\"p-value = \", p_value)"
   ]
  },
  {
   "cell_type": "markdown",
   "metadata": {},
   "source": [
    "p-value is large, so we fail to reject $H_0$ meaning that data supports that the population mean is 12. "
   ]
  },
  {
   "cell_type": "markdown",
   "metadata": {},
   "source": [
    "## 2.\tIf mu = 12.00, what is the probability that we fail to reject mu = 12.012, given that the values are the average volume of a sample of 100 items analyzed? "
   ]
  },
  {
   "cell_type": "markdown",
   "metadata": {},
   "source": [
    "As we assume n=100, we can use z statistic and the formula derived in class:\n",
    "\n",
    "$\\beta = P (Z \\leq Z_{\\alpha/2}-\\frac{\\delta \\sqrt{n}}{\\sigma})-P (Z \\leq -Z_{\\alpha/2}-\\frac{\\delta \\sqrt{n}}{\\sigma})$\n",
    "\n",
    "distribution of Z: N(0,1)\n"
   ]
  },
  {
   "cell_type": "code",
   "execution_count": 10,
   "metadata": {},
   "outputs": [
    {
     "name": "stdout",
     "output_type": "stream",
     "text": [
      "beta =  0.00061260813579107\n"
     ]
    }
   ],
   "source": [
    "mu0 = 12\n",
    "mu1 = 12.012\n",
    "delta = mu1-mu0\n",
    "alpha = 0.05\n",
    "n = 100\n",
    "s = net_contents.std()\n",
    "z_alpha2 = stat.norm.ppf(1-alpha/2)\n",
    "beta = stat.norm.cdf(z_alpha2- (delta*np.sqrt(n)/s),0,1) \\\n",
    "-stat.norm.cdf(-z_alpha2- (delta*np.sqrt(n)/s),0,1)\n",
    "print(\"beta = \",beta)"
   ]
  },
  {
   "cell_type": "markdown",
   "metadata": {},
   "source": [
    "## 3. What is the average number of clients satisfied in the first 13 days and the standard deviation? "
   ]
  },
  {
   "cell_type": "markdown",
   "metadata": {},
   "source": [
    "# 4.What is the average number of clients satisfied in the last 13 days and the standard deviation? "
   ]
  },
  {
   "cell_type": "markdown",
   "metadata": {},
   "source": [
    "First we divide the data in this column to two sets: 1. before 13 (including 13), 2. after 13 : "
   ]
  },
  {
   "cell_type": "code",
   "execution_count": 11,
   "metadata": {},
   "outputs": [],
   "source": [
    "set1 = df.loc[:12,'No of Clients Satisfied'] \n",
    "set2 = df.loc[13:,'No of Clients Satisfied'] "
   ]
  },
  {
   "cell_type": "code",
   "execution_count": 15,
   "metadata": {},
   "outputs": [],
   "source": [
    "n1 = set1.size\n",
    "n2 = set2.size\n",
    "x_bar1 = set1.mean()\n",
    "x_bar2 = set2.mean()\n",
    "s1 = set1.std()\n",
    "s2 = set2.std()"
   ]
  },
  {
   "cell_type": "code",
   "execution_count": 17,
   "metadata": {},
   "outputs": [
    {
     "name": "stdout",
     "output_type": "stream",
     "text": [
      "Average number of clients satisfied in the first 13 days: 68.15384615384616\n",
      "STD of clients satisfied in the first 13 days: 21.384753735025622\n",
      "Average number of clients satisfied in the last 13 days: 62.38461538461539\n",
      "STD of clients satisfied in the last 13 days: 20.0064092294547\n"
     ]
    }
   ],
   "source": [
    "print(\"Average number of clients satisfied in the first 13 days:\", x_bar1)\n",
    "print(\"STD of clients satisfied in the first 13 days:\", s1)\n",
    "print(\"Average number of clients satisfied in the last 13 days:\", x_bar2)\n",
    "print(\"STD of clients satisfied in the last 13 days:\", s2)"
   ]
  },
  {
   "cell_type": "markdown",
   "metadata": {},
   "source": [
    "## 5.\tIs there a change in the mean before and after the 13th day? (Yes/No) What is the p-value?"
   ]
  },
  {
   "cell_type": "markdown",
   "metadata": {},
   "source": [
    "Now we test $H_0:\\mu_1=\\mu_2$, $H_1:\\mu_1\\neq \\mu_2$. We use a two-sample t-test"
   ]
  },
  {
   "cell_type": "code",
   "execution_count": 9,
   "metadata": {},
   "outputs": [
    {
     "name": "stdout",
     "output_type": "stream",
     "text": [
      "p-value =  0.48500148709783897\n",
      "t_score =  0.7103236761656716\n"
     ]
    }
   ],
   "source": [
    "\n",
    "t0 = (x_bar1-x_bar2)/np.sqrt((s1**2/n1)+(s2**2/n2))\n",
    "\n",
    "d_f = (((s1**2/n1)+(s2**2/n2))**2)/((s1**2/n1)**2/(n1-1)\\\n",
    "                                    +(s2**2/n2)**2/(n2-1)) -2 \n",
    "p_value =  2 * (1 - stat.t.cdf(t0,df=d_f))\n",
    "\n",
    "print(\"p-value = \", p_value)\n",
    "print (\"t_score = \", t0)"
   ]
  },
  {
   "cell_type": "markdown",
   "metadata": {},
   "source": [
    "p-value is large, so we fail to reject $H_0$ meaning that there is no change before and after. "
   ]
  },
  {
   "cell_type": "code",
   "execution_count": null,
   "metadata": {},
   "outputs": [],
   "source": []
  }
 ],
 "metadata": {
  "kernelspec": {
   "display_name": "Python 3",
   "language": "python",
   "name": "python3"
  },
  "language_info": {
   "codemirror_mode": {
    "name": "ipython",
    "version": 3
   },
   "file_extension": ".py",
   "mimetype": "text/x-python",
   "name": "python",
   "nbconvert_exporter": "python",
   "pygments_lexer": "ipython3",
   "version": "3.7.7"
  }
 },
 "nbformat": 4,
 "nbformat_minor": 4
}
