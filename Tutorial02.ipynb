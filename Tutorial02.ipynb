{
  "nbformat": 4,
  "nbformat_minor": 0,
  "metadata": {
    "kernelspec": {
      "display_name": "Python 3",
      "language": "python",
      "name": "python3"
    },
    "language_info": {
      "codemirror_mode": {
        "name": "ipython",
        "version": 3
      },
      "file_extension": ".py",
      "mimetype": "text/x-python",
      "name": "python",
      "nbconvert_exporter": "python",
      "pygments_lexer": "ipython3",
      "version": "3.7.7"
    },
    "colab": {
      "name": "Tutorial02.ipynb",
      "provenance": []
    }
  },
  "cells": [
    {
      "cell_type": "markdown",
      "metadata": {
        "id": "p1r2hVydIytT"
      },
      "source": [
        "# Python Solution to Tutorial 02"
      ]
    },
    {
      "cell_type": "code",
      "metadata": {
        "id": "jvmV_6ZWIytV"
      },
      "source": [
        "import scipy.stats as stat \n",
        "import pandas as pd\n",
        "import numpy as np\n",
        "import matplotlib.pyplot as plt\n",
        "\n",
        "#df = pd.read_csv('Tutorial02_data.csv')\n",
        "\n",
        "url = 'https://raw.githubusercontent.com/APS1040/Tutorials/main/Tutorial02_data.csv'\n",
        "df = pd.read_csv(url)\n",
        "df.head()\n",
        "\n",
        "\n",
        "net_contents = df['Net Contents (Oz)'].dropna()"
      ],
      "execution_count": 1,
      "outputs": []
    },
    {
      "cell_type": "markdown",
      "metadata": {
        "id": "3kLN7UGkIytW"
      },
      "source": [
        "## 1.\tDoes the data support a population mean of 12?  (Yes/No) What is the p-value?"
      ]
    },
    {
      "cell_type": "markdown",
      "metadata": {
        "id": "H6xzd1UmIytW"
      },
      "source": [
        "$H_0:\\mu=12$, $H_1:\\mu\\neq 12$. We use a two-sided t-test because the population variance is unknown and n<40. We could use a z-test if n was larger than 40."
      ]
    },
    {
      "cell_type": "code",
      "metadata": {
        "id": "xbxbiW-WIytW",
        "outputId": "4f8c3121-2fb9-4f7d-b642-ca18ee1276f6"
      },
      "source": [
        "n = net_contents.size\n",
        "mu0 = 12\n",
        "x_bar = net_contents.mean()\n",
        "s = net_contents.std()\n",
        "t0 = (x_bar-mu0)/(s/np.sqrt(n))\n",
        "d_f = n-1\n",
        "p_value = 2 * (1 - stat.t.cdf(t0,df=d_f))\n",
        "print(\"p-value = \", p_value)"
      ],
      "execution_count": null,
      "outputs": [
        {
          "output_type": "stream",
          "text": [
            "p-value =  0.35057055304117135\n"
          ],
          "name": "stdout"
        }
      ]
    },
    {
      "cell_type": "markdown",
      "metadata": {
        "id": "lYp9jcm4IytX"
      },
      "source": [
        "p-value is large, so we fail to reject $H_0$ meaning that data supports that the population mean is 12. "
      ]
    },
    {
      "cell_type": "markdown",
      "metadata": {
        "id": "XitY3bprIytY"
      },
      "source": [
        "## 2.\tIf mu = 12.00, what is the probability that we fail to reject mu = 12.012, given that the values are the average volume of a sample of 100 items analyzed? "
      ]
    },
    {
      "cell_type": "markdown",
      "metadata": {
        "id": "samUTGpDIytY"
      },
      "source": [
        "As we assume n=100, we can use z statistic and the formula derived in class:\n",
        "\n",
        "$\\beta = P (Z \\leq Z_{\\alpha/2}-\\frac{\\delta \\sqrt{n}}{\\sigma})-P (Z \\leq -Z_{\\alpha/2}-\\frac{\\delta \\sqrt{n}}{\\sigma})$\n",
        "\n",
        "distribution of Z: N(0,1)\n"
      ]
    },
    {
      "cell_type": "code",
      "metadata": {
        "id": "yVWPu5EaIytY",
        "outputId": "83e01411-166b-49c5-cb0d-f4602159f4fe"
      },
      "source": [
        "mu0 = 12\n",
        "mu1 = 12.012\n",
        "delta = mu1-mu0\n",
        "alpha = 0.05\n",
        "n = 100\n",
        "s = net_contents.std()\n",
        "z_alpha2 = stat.norm.ppf(1-alpha/2)\n",
        "beta = stat.norm.cdf(z_alpha2- (delta*np.sqrt(n)/s),0,1) \\\n",
        "-stat.norm.cdf(-z_alpha2- (delta*np.sqrt(n)/s),0,1)\n",
        "print(\"beta = \",beta)"
      ],
      "execution_count": null,
      "outputs": [
        {
          "output_type": "stream",
          "text": [
            "beta =  0.00061260813579107\n"
          ],
          "name": "stdout"
        }
      ]
    },
    {
      "cell_type": "markdown",
      "metadata": {
        "id": "IHlE3TaeIytY"
      },
      "source": [
        "## 3. What is the average number of clients satisfied in the first 13 days and the standard deviation? "
      ]
    },
    {
      "cell_type": "markdown",
      "metadata": {
        "id": "o2oIXtutIytZ"
      },
      "source": [
        "# 4.What is the average number of clients satisfied in the last 13 days and the standard deviation? "
      ]
    },
    {
      "cell_type": "markdown",
      "metadata": {
        "id": "koFrZv-xIytZ"
      },
      "source": [
        "First we divide the data in this column to two sets: 1. before 13 (including 13), 2. after 13 : "
      ]
    },
    {
      "cell_type": "code",
      "metadata": {
        "id": "VHF-pOWvIytZ"
      },
      "source": [
        "set1 = df.loc[:12,'No of Clients Satisfied'] \n",
        "set2 = df.loc[13:,'No of Clients Satisfied'] "
      ],
      "execution_count": null,
      "outputs": []
    },
    {
      "cell_type": "code",
      "metadata": {
        "id": "4WPVbuF8IytZ"
      },
      "source": [
        "n1 = set1.size\n",
        "n2 = set2.size\n",
        "x_bar1 = set1.mean()\n",
        "x_bar2 = set2.mean()\n",
        "s1 = set1.std()\n",
        "s2 = set2.std()"
      ],
      "execution_count": null,
      "outputs": []
    },
    {
      "cell_type": "code",
      "metadata": {
        "id": "CyBZn2vBIyta",
        "outputId": "f2766da2-09ce-4dc0-b8f8-a6bf0fa4ddf8"
      },
      "source": [
        "print(\"Average number of clients satisfied in the first 13 days:\", x_bar1)\n",
        "print(\"STD of clients satisfied in the first 13 days:\", s1)\n",
        "print(\"Average number of clients satisfied in the last 13 days:\", x_bar2)\n",
        "print(\"STD of clients satisfied in the last 13 days:\", s2)"
      ],
      "execution_count": null,
      "outputs": [
        {
          "output_type": "stream",
          "text": [
            "Average number of clients satisfied in the first 13 days: 68.15384615384616\n",
            "STD of clients satisfied in the first 13 days: 21.384753735025622\n",
            "Average number of clients satisfied in the last 13 days: 62.38461538461539\n",
            "STD of clients satisfied in the last 13 days: 20.0064092294547\n"
          ],
          "name": "stdout"
        }
      ]
    },
    {
      "cell_type": "markdown",
      "metadata": {
        "id": "hCVlFL-fIyta"
      },
      "source": [
        "## 5.\tIs there a change in the mean before and after the 13th day? (Yes/No) What is the p-value?"
      ]
    },
    {
      "cell_type": "markdown",
      "metadata": {
        "id": "-7Q1weMGIyta"
      },
      "source": [
        "Now we test $H_0:\\mu_1=\\mu_2$, $H_1:\\mu_1\\neq \\mu_2$. We use a two-sample t-test"
      ]
    },
    {
      "cell_type": "code",
      "metadata": {
        "id": "IbZ8vpxvIyta",
        "outputId": "9ebd76f2-cea8-49f3-b4f1-6fa4ca13d1fd"
      },
      "source": [
        "\n",
        "t0 = (x_bar1-x_bar2)/np.sqrt((s1**2/n1)+(s2**2/n2))\n",
        "\n",
        "d_f = (((s1**2/n1)+(s2**2/n2))**2)/((s1**2/n1)**2/(n1-1)\\\n",
        "                                    +(s2**2/n2)**2/(n2-1)) -2 \n",
        "p_value =  2 * (1 - stat.t.cdf(t0,df=d_f))\n",
        "\n",
        "print(\"p-value = \", p_value)\n",
        "print (\"t_score = \", t0)"
      ],
      "execution_count": null,
      "outputs": [
        {
          "output_type": "stream",
          "text": [
            "p-value =  0.48500148709783897\n",
            "t_score =  0.7103236761656716\n"
          ],
          "name": "stdout"
        }
      ]
    },
    {
      "cell_type": "markdown",
      "metadata": {
        "id": "YSSyb_0qIytb"
      },
      "source": [
        "p-value is large, so we fail to reject $H_0$ meaning that there is no change before and after. "
      ]
    },
    {
      "cell_type": "code",
      "metadata": {
        "id": "shMMkssCIytb"
      },
      "source": [
        ""
      ],
      "execution_count": null,
      "outputs": []
    }
  ]
}