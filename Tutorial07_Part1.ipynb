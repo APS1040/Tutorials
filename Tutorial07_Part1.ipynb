{
 "cells": [
  {
   "cell_type": "markdown",
   "metadata": {},
   "source": [
    "# Python Solutions Tutorial 07 - Part 1"
   ]
  },
  {
   "cell_type": "code",
   "execution_count": 2,
   "metadata": {},
   "outputs": [],
   "source": [
    "import numpy as np\n",
    "import pandas as pd\n",
    "import scipy.stats as stat\n",
    "import math as mt\n",
    "\n",
    "df = pd.read_csv('Tutorial07_Part1_data.csv')"
   ]
  },
  {
   "cell_type": "markdown",
   "metadata": {},
   "source": [
    "## 1.\tThe dataset contains data on examination of medical insurance claims. Every day 50 claims were examined. Set up the fraction nonconforming control chart for this process. Is the process in statistical control?"
   ]
  },
  {
   "cell_type": "code",
   "execution_count": 2,
   "metadata": {},
   "outputs": [
    {
     "name": "stdout",
     "output_type": "stream",
     "text": [
      "0.107 0.2381456442280871 0\n"
     ]
    }
   ],
   "source": [
    "# p-chart\n",
    "n = 50\n",
    "m = 20 \n",
    "CL = df['insurance_nonc'].sum()/(m*n)\n",
    "UCL = CL + 3* np.sqrt(CL*(1-CL)/n)\n",
    "LCL = max(CL - 3* np.sqrt(CL*(1-CL)/n),0)\n",
    "p_hat = df['insurance_nonc']/n\n",
    "print(CL, UCL, LCL)"
   ]
  },
  {
   "cell_type": "code",
   "execution_count": 3,
   "metadata": {},
   "outputs": [
    {
     "name": "stdout",
     "output_type": "stream",
     "text": [
      "16 is out of control\n"
     ]
    }
   ],
   "source": [
    "for i in range(1,m+1):\n",
    "    if(p_hat[i-1] > UCL or p_hat[i-1] < LCL):\n",
    "        print(i, 'is out of control')"
   ]
  },
  {
   "cell_type": "markdown",
   "metadata": {},
   "source": [
    "## 2.\tWhat center line and control limits should be used for process monitoring in the next period? "
   ]
  },
  {
   "cell_type": "code",
   "execution_count": 4,
   "metadata": {},
   "outputs": [
    {
     "name": "stdout",
     "output_type": "stream",
     "text": [
      "0.09157894736842105 0.21394971135278268 0\n"
     ]
    }
   ],
   "source": [
    "# exclude 16 from calculations\n",
    "CL = (df['insurance_nonc'].sum()-df['insurance_nonc'][15])/(n*(m-1))\n",
    "UCL = CL + 3* np.sqrt(CL*(1-CL)/n)\n",
    "LCL = max(CL - 3* np.sqrt(CL*(1-CL)/n),0)\n",
    "print(CL, UCL, LCL)\n",
    "n = 1"
   ]
  },
  {
   "cell_type": "code",
   "execution_count": 5,
   "metadata": {},
   "outputs": [
    {
     "name": "stdout",
     "output_type": "stream",
     "text": [
      "16 is out of control\n"
     ]
    }
   ],
   "source": [
    "for i in range(1,m+1):\n",
    "    if(p_hat[i-1] > UCL or p_hat[i-1] < LCL):\n",
    "        print(i, 'is out of control')"
   ]
  },
  {
   "cell_type": "markdown",
   "metadata": {},
   "source": [
    "No new point is out of control, so this is the final control limits"
   ]
  },
  {
   "cell_type": "markdown",
   "metadata": {},
   "source": [
    "## 3.\tWhat are the center line and control limits in an np-chart for the process?"
   ]
  },
  {
   "cell_type": "code",
   "execution_count": 6,
   "metadata": {},
   "outputs": [
    {
     "name": "stdout",
     "output_type": "stream",
     "text": [
      "0.09157894736842105 0.21394971135278268 0\n"
     ]
    }
   ],
   "source": [
    "print(n*CL, n*UCL, n*LCL)"
   ]
  }
 ],
 "metadata": {
  "kernelspec": {
   "display_name": "Python 3",
   "language": "python",
   "name": "python3"
  },
  "language_info": {
   "codemirror_mode": {
    "name": "ipython",
    "version": 3
   },
   "file_extension": ".py",
   "mimetype": "text/x-python",
   "name": "python",
   "nbconvert_exporter": "python",
   "pygments_lexer": "ipython3",
   "version": "3.7.7"
  }
 },
 "nbformat": 4,
 "nbformat_minor": 4
}
