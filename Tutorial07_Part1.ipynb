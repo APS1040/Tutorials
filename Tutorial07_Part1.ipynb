{
  "nbformat": 4,
  "nbformat_minor": 0,
  "metadata": {
    "kernelspec": {
      "display_name": "Python 3",
      "language": "python",
      "name": "python3"
    },
    "language_info": {
      "codemirror_mode": {
        "name": "ipython",
        "version": 3
      },
      "file_extension": ".py",
      "mimetype": "text/x-python",
      "name": "python",
      "nbconvert_exporter": "python",
      "pygments_lexer": "ipython3",
      "version": "3.7.7"
    },
    "colab": {
      "name": "Tutorial07_Part1.ipynb",
      "provenance": []
    }
  },
  "cells": [
    {
      "cell_type": "markdown",
      "metadata": {
        "id": "ZWD7C-LwI0jL"
      },
      "source": [
        "# Python Solutions Tutorial 07 - Part 1"
      ]
    },
    {
      "cell_type": "code",
      "metadata": {
        "id": "2kZMrnQZI0jN",
        "outputId": "47436e41-9c6e-457d-c1d1-4030e59b04fa",
        "colab": {
          "base_uri": "https://localhost:8080/",
          "height": 202
        }
      },
      "source": [
        "import numpy as np\n",
        "import pandas as pd\n",
        "import scipy.stats as stat\n",
        "import math as mt\n",
        "\n",
        "#df = pd.read_csv('Tutorial07_Part1_data.csv')\n",
        "\n",
        "url = 'https://raw.githubusercontent.com/APS1040/Tutorials/main/Tutorial07_Part1_data.csv'\n",
        "df = pd.read_csv(url)\n",
        "df.head()"
      ],
      "execution_count": 1,
      "outputs": [
        {
          "output_type": "execute_result",
          "data": {
            "text/html": [
              "<div>\n",
              "<style scoped>\n",
              "    .dataframe tbody tr th:only-of-type {\n",
              "        vertical-align: middle;\n",
              "    }\n",
              "\n",
              "    .dataframe tbody tr th {\n",
              "        vertical-align: top;\n",
              "    }\n",
              "\n",
              "    .dataframe thead th {\n",
              "        text-align: right;\n",
              "    }\n",
              "</style>\n",
              "<table border=\"1\" class=\"dataframe\">\n",
              "  <thead>\n",
              "    <tr style=\"text-align: right;\">\n",
              "      <th></th>\n",
              "      <th>day</th>\n",
              "      <th>insurance_nonc</th>\n",
              "    </tr>\n",
              "  </thead>\n",
              "  <tbody>\n",
              "    <tr>\n",
              "      <th>0</th>\n",
              "      <td>1</td>\n",
              "      <td>0</td>\n",
              "    </tr>\n",
              "    <tr>\n",
              "      <th>1</th>\n",
              "      <td>2</td>\n",
              "      <td>3</td>\n",
              "    </tr>\n",
              "    <tr>\n",
              "      <th>2</th>\n",
              "      <td>3</td>\n",
              "      <td>4</td>\n",
              "    </tr>\n",
              "    <tr>\n",
              "      <th>3</th>\n",
              "      <td>4</td>\n",
              "      <td>6</td>\n",
              "    </tr>\n",
              "    <tr>\n",
              "      <th>4</th>\n",
              "      <td>5</td>\n",
              "      <td>5</td>\n",
              "    </tr>\n",
              "  </tbody>\n",
              "</table>\n",
              "</div>"
            ],
            "text/plain": [
              "   day  insurance_nonc\n",
              "0    1               0\n",
              "1    2               3\n",
              "2    3               4\n",
              "3    4               6\n",
              "4    5               5"
            ]
          },
          "metadata": {
            "tags": []
          },
          "execution_count": 1
        }
      ]
    },
    {
      "cell_type": "markdown",
      "metadata": {
        "id": "VeK6LOiSI0jO"
      },
      "source": [
        "## 1.\tThe dataset contains data on examination of medical insurance claims. Every day 50 claims were examined. Set up the fraction nonconforming control chart for this process. Is the process in statistical control?"
      ]
    },
    {
      "cell_type": "code",
      "metadata": {
        "id": "WW2kPjdgI0jP",
        "outputId": "7770cb0f-867a-4e91-d136-953c8fb8bbba"
      },
      "source": [
        "# p-chart\n",
        "n = 50\n",
        "m = 20 \n",
        "CL = df['insurance_nonc'].sum()/(m*n)\n",
        "UCL = CL + 3* np.sqrt(CL*(1-CL)/n)\n",
        "LCL = max(CL - 3* np.sqrt(CL*(1-CL)/n),0)\n",
        "p_hat = df['insurance_nonc']/n\n",
        "print(CL, UCL, LCL)"
      ],
      "execution_count": null,
      "outputs": [
        {
          "output_type": "stream",
          "text": [
            "0.107 0.2381456442280871 0\n"
          ],
          "name": "stdout"
        }
      ]
    },
    {
      "cell_type": "code",
      "metadata": {
        "id": "OnubrJCZI0jQ",
        "outputId": "6b5d7914-3ae0-49b9-b4af-7aa7818e3c60"
      },
      "source": [
        "for i in range(1,m+1):\n",
        "    if(p_hat[i-1] > UCL or p_hat[i-1] < LCL):\n",
        "        print(i, 'is out of control')"
      ],
      "execution_count": null,
      "outputs": [
        {
          "output_type": "stream",
          "text": [
            "16 is out of control\n"
          ],
          "name": "stdout"
        }
      ]
    },
    {
      "cell_type": "markdown",
      "metadata": {
        "id": "GvY_uwZnI0jR"
      },
      "source": [
        "## 2.\tWhat center line and control limits should be used for process monitoring in the next period? "
      ]
    },
    {
      "cell_type": "code",
      "metadata": {
        "id": "fQk51KIzI0jR",
        "outputId": "318fa904-2cd5-4de3-b485-c905021fc39a"
      },
      "source": [
        "# exclude 16 from calculations\n",
        "CL = (df['insurance_nonc'].sum()-df['insurance_nonc'][15])/(n*(m-1))\n",
        "UCL = CL + 3* np.sqrt(CL*(1-CL)/n)\n",
        "LCL = max(CL - 3* np.sqrt(CL*(1-CL)/n),0)\n",
        "print(CL, UCL, LCL)\n",
        "n = 1"
      ],
      "execution_count": null,
      "outputs": [
        {
          "output_type": "stream",
          "text": [
            "0.09157894736842105 0.21394971135278268 0\n"
          ],
          "name": "stdout"
        }
      ]
    },
    {
      "cell_type": "code",
      "metadata": {
        "id": "IgoFh-TjI0jR",
        "outputId": "e1bc6683-6c98-49c5-b661-432dca52b4dd"
      },
      "source": [
        "for i in range(1,m+1):\n",
        "    if(p_hat[i-1] > UCL or p_hat[i-1] < LCL):\n",
        "        print(i, 'is out of control')"
      ],
      "execution_count": null,
      "outputs": [
        {
          "output_type": "stream",
          "text": [
            "16 is out of control\n"
          ],
          "name": "stdout"
        }
      ]
    },
    {
      "cell_type": "markdown",
      "metadata": {
        "id": "RCW2AFjFI0jS"
      },
      "source": [
        "No new point is out of control, so this is the final control limits"
      ]
    },
    {
      "cell_type": "markdown",
      "metadata": {
        "id": "ZNd460jVI0jS"
      },
      "source": [
        "## 3.\tWhat are the center line and control limits in an np-chart for the process?"
      ]
    },
    {
      "cell_type": "code",
      "metadata": {
        "id": "wXBa1ZCSI0jS",
        "outputId": "c5344070-33fe-4b61-d492-ba77d581dd9e"
      },
      "source": [
        "print(n*CL, n*UCL, n*LCL)"
      ],
      "execution_count": null,
      "outputs": [
        {
          "output_type": "stream",
          "text": [
            "0.09157894736842105 0.21394971135278268 0\n"
          ],
          "name": "stdout"
        }
      ]
    }
  ]
}