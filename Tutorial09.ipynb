{
 "cells": [
  {
   "cell_type": "markdown",
   "metadata": {},
   "source": [
    "# Python Solutions to Tutorial 09"
   ]
  },
  {
   "cell_type": "code",
   "execution_count": 1,
   "metadata": {},
   "outputs": [
    {
     "data": {
      "text/html": [
       "<div>\n",
       "<style scoped>\n",
       "    .dataframe tbody tr th:only-of-type {\n",
       "        vertical-align: middle;\n",
       "    }\n",
       "\n",
       "    .dataframe tbody tr th {\n",
       "        vertical-align: top;\n",
       "    }\n",
       "\n",
       "    .dataframe thead th {\n",
       "        text-align: right;\n",
       "    }\n",
       "</style>\n",
       "<table border=\"1\" class=\"dataframe\">\n",
       "  <thead>\n",
       "    <tr style=\"text-align: right;\">\n",
       "      <th></th>\n",
       "      <th>Observation</th>\n",
       "      <th>Weight</th>\n",
       "    </tr>\n",
       "  </thead>\n",
       "  <tbody>\n",
       "    <tr>\n",
       "      <th>0</th>\n",
       "      <td>1</td>\n",
       "      <td>1075</td>\n",
       "    </tr>\n",
       "    <tr>\n",
       "      <th>1</th>\n",
       "      <td>2</td>\n",
       "      <td>1135</td>\n",
       "    </tr>\n",
       "    <tr>\n",
       "      <th>2</th>\n",
       "      <td>3</td>\n",
       "      <td>1087</td>\n",
       "    </tr>\n",
       "    <tr>\n",
       "      <th>3</th>\n",
       "      <td>4</td>\n",
       "      <td>1094</td>\n",
       "    </tr>\n",
       "    <tr>\n",
       "      <th>4</th>\n",
       "      <td>5</td>\n",
       "      <td>1095</td>\n",
       "    </tr>\n",
       "  </tbody>\n",
       "</table>\n",
       "</div>"
      ],
      "text/plain": [
       "   Observation  Weight\n",
       "0            1    1075\n",
       "1            2    1135\n",
       "2            3    1087\n",
       "3            4    1094\n",
       "4            5    1095"
      ]
     },
     "execution_count": 1,
     "metadata": {},
     "output_type": "execute_result"
    }
   ],
   "source": [
    "import numpy as np\n",
    "import pandas as pd\n",
    "import scipy.stats as stat \n",
    "import matplotlib.pyplot as plt\n",
    "\n",
    "\n",
    "#url = 'https://raw.githubusercontent.com/APS1040/Tutorials/main/Tutorial09_data.csv'\n",
    "#df = pd.read_csv(url)\n",
    "\n",
    "df = pd.read_csv('Tutorial09_data.csv')\n",
    "df.head()"
   ]
  },
  {
   "cell_type": "markdown",
   "metadata": {},
   "source": [
    "## 1.\tTwenty individual observations on molecular weight taken hourly from a chemical process are presented in the dataset. Set up MR and I charts. Is the process in control?"
   ]
  },
  {
   "cell_type": "code",
   "execution_count": 2,
   "metadata": {},
   "outputs": [
    {
     "name": "stdout",
     "output_type": "stream",
     "text": [
      "20.842105263157894 68.09115789473684 0\n"
     ]
    }
   ],
   "source": [
    "Rs = []\n",
    "Rs.append(0) # set first entry to 0 so the indices do not mix later\n",
    "for n in range(1,20):\n",
    "    R = np.abs(df['Weight'][n]-df['Weight'][n-1])\n",
    "    Rs.append(R)\n",
    "\n",
    "CL_R = np.sum(Rs)/19\n",
    "UCL_R = 3.267 * CL_R \n",
    "LCL_R = 0\n",
    "print(CL_R, UCL_R, LCL_R)\n",
    "\n",
    "for n in range(1,20):\n",
    "    if(Rs[n-1] > UCL_R):\n",
    "         print(n, 'is out of control')\n"
   ]
  },
  {
   "cell_type": "code",
   "execution_count": 3,
   "metadata": {},
   "outputs": [
    {
     "name": "stdout",
     "output_type": "stream",
     "text": [
      "1126.75 1182.19 1071.31\n"
     ]
    }
   ],
   "source": [
    "CL_x_bar = df['Weight'].mean()\n",
    "UCL_x_bar = CL_x_bar + 2.66 * CL_R # E2\n",
    "LCL_x_bar = CL_x_bar - 2.66 * CL_R # E2\n",
    "print(CL_x_bar, UCL_x_bar, LCL_x_bar)\n",
    "\n",
    "for n in range(1,20):\n",
    "    if(df['Weight'][n-1] > UCL_x_bar or df['Weight'][n-1]<LCL_x_bar ):\n",
    "         print(n, 'is out of control')\n"
   ]
  },
  {
   "cell_type": "markdown",
   "metadata": {},
   "source": [
    "The process is in control based on the I-MR chart"
   ]
  },
  {
   "cell_type": "markdown",
   "metadata": {},
   "source": [
    "## 2.\tBased on the data and the control charts, what is the estimate of the process mean?"
   ]
  },
  {
   "cell_type": "code",
   "execution_count": 4,
   "metadata": {},
   "outputs": [
    {
     "name": "stdout",
     "output_type": "stream",
     "text": [
      "The estimate of the process mean is:  1126.75\n"
     ]
    }
   ],
   "source": [
    "mu = CL_x_bar\n",
    "print(\"The estimate of the process mean is: \", mu) "
   ]
  },
  {
   "cell_type": "markdown",
   "metadata": {},
   "source": [
    "## 3.\tBased on the data and the control charts, what is the estimate of the process standard deviation?"
   ]
  },
  {
   "cell_type": "code",
   "execution_count": 5,
   "metadata": {},
   "outputs": [
    {
     "name": "stdout",
     "output_type": "stream",
     "text": [
      "The estimate of the process standard deviation is:  18.477043673012318\n"
     ]
    }
   ],
   "source": [
    "sigma = CL_R/1.128\n",
    "print(\"The estimate of the process standard deviation is: \", sigma)"
   ]
  },
  {
   "cell_type": "markdown",
   "metadata": {},
   "source": [
    "## 4.\tWe wish to detect all the shifts of 1.0 σ that may happen in this process with an EWMA control chart. What are the appropriate values of λ and L that will result in the lowest ARL? "
   ]
  },
  {
   "cell_type": "markdown",
   "metadata": {},
   "source": [
    "Using the EWMA table: Lambda = 0.10 and L = 2.814"
   ]
  },
  {
   "cell_type": "markdown",
   "metadata": {},
   "source": [
    "## 5.\tSet up an EWMA control chart for the shifts of 1.0 σ using the values of λ and L selected in the previous question.  Assume that μ_0 and σ_o are the values of mean and standard deviation found in the I-MR chart. Is the process in control now?"
   ]
  },
  {
   "cell_type": "code",
   "execution_count": 6,
   "metadata": {},
   "outputs": [
    {
     "name": "stdout",
     "output_type": "stream",
     "text": [
      "4 is out of control\n",
      "5 is out of control\n",
      "6 is out of control\n",
      "7 is out of control\n",
      "8 is out of control\n",
      "9 is out of control\n",
      "10 is out of control\n"
     ]
    }
   ],
   "source": [
    "lam = 0.1\n",
    "L = 2.814\n",
    "\n",
    "z = []\n",
    "\n",
    "for n in range(0,20):\n",
    "    if n==0:\n",
    "        z.append(lam * df['Weight'][n] + (1-lam) * mu )\n",
    "    else:\n",
    "        z.append(lam * df['Weight'][n] + (1-lam) * z[n-1])\n",
    "\n",
    "\n",
    "CL = mu\n",
    "df['UCL'] = mu + L * sigma * np.sqrt((lam/(2-lam)) * (1-(1-lam)**(2*df['Observation'] )))\n",
    "df['LCL'] = mu - L * sigma * np.sqrt((lam/(2-lam)) * (1-(1-lam)**(2*df['Observation'] )))\n",
    "\n",
    "for n in range(0,20):\n",
    "    if(z[n] > df['UCL'][n] or z[n]<df['LCL'][n]):\n",
    "        print(n+1, 'is out of control')\n",
    "\n"
   ]
  },
  {
   "cell_type": "markdown",
   "metadata": {},
   "source": [
    "it is out of control "
   ]
  },
  {
   "cell_type": "markdown",
   "metadata": {},
   "source": [
    "PLOT:"
   ]
  },
  {
   "cell_type": "code",
   "execution_count": 7,
   "metadata": {},
   "outputs": [
    {
     "data": {
      "image/png": "[encoded data removed]",
      "text/plain": [
       "<Figure size 432x288 with 1 Axes>"
      ]
     },
     "metadata": {
      "needs_background": "light"
     },
     "output_type": "display_data"
    }
   ],
   "source": [
    "m=20\n",
    "plt.plot(z,marker=\"o\",color='b')\n",
    "plt.plot(df['UCL'],color='k')\n",
    "plt.plot(df['LCL'],color='k')\n",
    "cl_line = np.full(m,CL) # create an array with all elements equal to the UCL\n",
    "plt.plot(cl_line,color='g')\n",
    "\n",
    "# These three lines help to set the labels of the x-axis to go from 1 to m\n",
    "labels = list(range(1,m+1)) \n",
    "x = list(range(0,m)) \n",
    "plt.xticks(x,labels) \n",
    "\n",
    "plt.grid(True)\n",
    "plt.title('EWMA')\n",
    "plt.show()"
   ]
  },
  {
   "cell_type": "markdown",
   "metadata": {},
   "source": [
    "## 6. \tWhen was the shift of 1.0 σ firstly detected in the EWMA chart?"
   ]
  },
  {
   "cell_type": "markdown",
   "metadata": {},
   "source": [
    "From the above chart, 4th observation "
   ]
  },
  {
   "cell_type": "markdown",
   "metadata": {},
   "source": [
    "## 7.\tNow we wish to detect a shift of 2.5 σ in the process using the EWMA chart.  What are the values of λ and L that will result in the lowest ARL?"
   ]
  },
  {
   "cell_type": "raw",
   "metadata": {},
   "source": [
    "Lambda = 0.40 and L = 3.054"
   ]
  },
  {
   "cell_type": "markdown",
   "metadata": {},
   "source": [
    "## 8.\tSet up an EWMA control chart for the shifts of 2.5 σ using the values of λ and L selected in the previous question. Assume that μ_0 and σ_o are the values of mean and standard deviation found in the I-MR chart. Is the process in control now?"
   ]
  },
  {
   "cell_type": "code",
   "execution_count": 8,
   "metadata": {},
   "outputs": [
    {
     "name": "stdout",
     "output_type": "stream",
     "text": [
      "5 is out of control\n",
      "7 is out of control\n",
      "8 is out of control\n",
      "20 is out of control\n"
     ]
    }
   ],
   "source": [
    "lam = 0.4\n",
    "L = 3.054\n",
    "\n",
    "z = []\n",
    "\n",
    "for n in range(0,20):\n",
    "    if n==0:\n",
    "        z.append(lam * df['Weight'][n] + (1-lam) * mu )\n",
    "    else:\n",
    "        z.append(lam * df['Weight'][n] + (1-lam) * z[n-1])\n",
    "\n",
    "\n",
    "CL = mu\n",
    "df['UCL'] = mu + L * sigma * np.sqrt((lam/(2-lam)) * (1-(1-lam)**(2*df['Observation'] )))\n",
    "df['LCL'] = mu - L * sigma * np.sqrt((lam/(2-lam)) * (1-(1-lam)**(2*df['Observation'] )))\n",
    "\n",
    "for n in range(0,20):\n",
    "    if(z[n] > df['UCL'][n] or z[n]<df['LCL'][n]):\n",
    "        print(n+1, 'is out of control')\n",
    "\n"
   ]
  },
  {
   "cell_type": "code",
   "execution_count": 9,
   "metadata": {},
   "outputs": [
    {
     "data": {
      "image/png": "[encoded data removed]",
      "text/plain": [
       "<Figure size 432x288 with 1 Axes>"
      ]
     },
     "metadata": {
      "needs_background": "light"
     },
     "output_type": "display_data"
    }
   ],
   "source": [
    "m=20\n",
    "plt.plot(z,marker=\"o\",color='b')\n",
    "plt.plot(df['UCL'],color='k')\n",
    "plt.plot(df['LCL'],color='k')\n",
    "cl_line = np.full(m,CL) # create an array with all elements equal to the UCL\n",
    "plt.plot(cl_line,color='g')\n",
    "\n",
    "# These three lines help to set the labels of the x-axis to go from 1 to m\n",
    "labels = list(range(1,m+1)) \n",
    "x = list(range(0,m)) \n",
    "plt.xticks(x,labels) \n",
    "\n",
    "plt.grid(True)\n",
    "plt.title('EWMA2')\n",
    "plt.show()"
   ]
  },
  {
   "cell_type": "markdown",
   "metadata": {},
   "source": [
    "## 9.\tWhen was the shift of 2.5 σ firstly detected in the EWMA chart?"
   ]
  },
  {
   "cell_type": "markdown",
   "metadata": {},
   "source": [
    "5th observation"
   ]
  },
  {
   "cell_type": "markdown",
   "metadata": {},
   "source": [
    "## 10. \tNow suppose we wish to implement a Fast Initial Response (FIR) to the EWMA control chart for the shift of 1.0 σ. When is this shift firstly detected in the EWMA chart? Assume f = 0.5."
   ]
  },
  {
   "cell_type": "code",
   "execution_count": 10,
   "metadata": {},
   "outputs": [
    {
     "name": "stdout",
     "output_type": "stream",
     "text": [
      "1 is out of control\n",
      "3 is out of control\n",
      "4 is out of control\n",
      "5 is out of control\n",
      "6 is out of control\n",
      "7 is out of control\n",
      "8 is out of control\n",
      "9 is out of control\n",
      "10 is out of control\n"
     ]
    }
   ],
   "source": [
    "lam = 0.1\n",
    "L = 2.814\n",
    "f = 0.5\n",
    "a = (-2/np.log10(1-f)-1)/19\n",
    "\n",
    "z = []\n",
    "\n",
    "for n in range(0,20):\n",
    "    if n==0:\n",
    "        z.append(lam * df['Weight'][n] + (1-lam) * mu )\n",
    "    else:\n",
    "        z.append(lam * df['Weight'][n] + (1-lam) * z[n-1])\n",
    "\n",
    "\n",
    "CL = mu\n",
    "df['UCL'] = mu + (L * sigma * np.sqrt((lam/(2-lam)) * (1-(1-lam)**(2*df['Observation'] )))) * (1-(1-f)**(1 + a*(df['Observation']-1) ) )\n",
    "df['LCL'] = mu - (L * sigma * np.sqrt((lam/(2-lam)) * (1-(1-lam)**(2*df['Observation'] )))) * (1-(1-f)**(1 + a*(df['Observation']-1) ) )\n",
    "\n",
    "for n in range(0,20):\n",
    "    if(z[n] > df['UCL'][n] or z[n]<df['LCL'][n]):\n",
    "        print(n+1, 'is out of control')\n",
    "\n"
   ]
  },
  {
   "cell_type": "markdown",
   "metadata": {},
   "source": [
    "first observation is out of control"
   ]
  }
 ],
 "metadata": {
  "kernelspec": {
   "display_name": "Python 3",
   "language": "python",
   "name": "python3"
  },
  "language_info": {
   "codemirror_mode": {
    "name": "ipython",
    "version": 3
   },
   "file_extension": ".py",
   "mimetype": "text/x-python",
   "name": "python",
   "nbconvert_exporter": "python",
   "pygments_lexer": "ipython3",
   "version": "3.7.7"
  }
 },
 "nbformat": 4,
 "nbformat_minor": 4
}
