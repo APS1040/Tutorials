{
  "nbformat": 4,
  "nbformat_minor": 0,
  "metadata": {
    "kernelspec": {
      "display_name": "Python 3",
      "language": "python",
      "name": "python3"
    },
    "language_info": {
      "codemirror_mode": {
        "name": "ipython",
        "version": 3
      },
      "file_extension": ".py",
      "mimetype": "text/x-python",
      "name": "python",
      "nbconvert_exporter": "python",
      "pygments_lexer": "ipython3",
      "version": "3.7.7"
    },
    "colab": {
      "name": "Tutorial01.ipynb",
      "provenance": []
    }
  },
  "cells": [
    {
      "cell_type": "markdown",
      "metadata": {
        "id": "_gYh9gjlG52w"
      },
      "source": [
        "# Python Solution to Tutorial 01\n"
      ]
    },
    {
      "cell_type": "code",
      "metadata": {
        "id": "akGhdW0oG52y",
        "outputId": "ae02f08a-0c02-4da8-8af7-a5d1522de1d4",
        "colab": {
          "base_uri": "https://localhost:8080/",
          "height": 202
        }
      },
      "source": [
        "import pandas as pd\n",
        "import matplotlib.pyplot as plt\n",
        "import scipy.stats as stat \n",
        "\n",
        "#df = pd.read_csv('Tutorial01_data.csv')\n",
        "#df.head()\n",
        "\n",
        "url = 'https://raw.githubusercontent.com/APS1040/Tutorials/main/Tutorial01_data.csv'\n",
        "df = pd.read_csv(url)\n",
        "df.head()"
      ],
      "execution_count": 5,
      "outputs": [
        {
          "output_type": "execute_result",
          "data": {
            "text/html": [
              "<div>\n",
              "<style scoped>\n",
              "    .dataframe tbody tr th:only-of-type {\n",
              "        vertical-align: middle;\n",
              "    }\n",
              "\n",
              "    .dataframe tbody tr th {\n",
              "        vertical-align: top;\n",
              "    }\n",
              "\n",
              "    .dataframe thead th {\n",
              "        text-align: right;\n",
              "    }\n",
              "</style>\n",
              "<table border=\"1\" class=\"dataframe\">\n",
              "  <thead>\n",
              "    <tr style=\"text-align: right;\">\n",
              "      <th></th>\n",
              "      <th>Densities</th>\n",
              "    </tr>\n",
              "  </thead>\n",
              "  <tbody>\n",
              "    <tr>\n",
              "      <th>0</th>\n",
              "      <td>41.8</td>\n",
              "    </tr>\n",
              "    <tr>\n",
              "      <th>1</th>\n",
              "      <td>41.9</td>\n",
              "    </tr>\n",
              "    <tr>\n",
              "      <th>2</th>\n",
              "      <td>41.7</td>\n",
              "    </tr>\n",
              "    <tr>\n",
              "      <th>3</th>\n",
              "      <td>41.6</td>\n",
              "    </tr>\n",
              "    <tr>\n",
              "      <th>4</th>\n",
              "      <td>41.5</td>\n",
              "    </tr>\n",
              "  </tbody>\n",
              "</table>\n",
              "</div>"
            ],
            "text/plain": [
              "   Densities\n",
              "0       41.8\n",
              "1       41.9\n",
              "2       41.7\n",
              "3       41.6\n",
              "4       41.5"
            ]
          },
          "metadata": {
            "tags": []
          },
          "execution_count": 5
        }
      ]
    },
    {
      "cell_type": "markdown",
      "metadata": {
        "id": "nNkTiT7qG52z"
      },
      "source": [
        "## 1.\tDraw a stem-and-leaf plot."
      ]
    },
    {
      "cell_type": "code",
      "metadata": {
        "id": "GEQ62cTCG52z",
        "outputId": "f44a19aa-881c-4343-9648-a50d56995cbb"
      },
      "source": [
        "# To install stemgraphic, open Anaconda Prompt and type 'pip install stemgraphic' before importing it\n",
        "import stemgraphic as stl\n",
        "stl.stem_graphic(df.Densities, asc=False)"
      ],
      "execution_count": null,
      "outputs": [
        {
          "output_type": "execute_result",
          "data": {
            "text/plain": [
              "(<Figure size 540x306 with 1 Axes>,\n",
              " <matplotlib.axes._axes.Axes at 0x1fd847cdac8>)"
            ]
          },
          "metadata": {
            "tags": []
          },
          "execution_count": 2
        },
        {
          "output_type": "display_data",
          "data": {
            "image/png": "[encoded data removed]",
            "text/plain": [
              "<Figure size 540x306 with 1 Axes>"
            ]
          },
          "metadata": {
            "tags": [],
            "needs_background": "light"
          }
        }
      ]
    },
    {
      "cell_type": "markdown",
      "metadata": {
        "id": "IbS_kaR5G520"
      },
      "source": [
        "Thus the data is skewed to the left. "
      ]
    },
    {
      "cell_type": "markdown",
      "metadata": {
        "id": "dtQGGX9rG520"
      },
      "source": [
        "## 2.\tDraw a histogram with 6 bins."
      ]
    },
    {
      "cell_type": "code",
      "metadata": {
        "id": "3-IzaM24G520",
        "outputId": "ad98e8d1-22b0-468f-adc0-f04bcd86f664"
      },
      "source": [
        "plt.hist(df.Densities,bins=6)\n",
        "plt.grid()\n",
        "plt.show()\n"
      ],
      "execution_count": null,
      "outputs": [
        {
          "output_type": "display_data",
          "data": {
            "image/png": "[encoded data removed]",
            "text/plain": [
              "<Figure size 432x288 with 1 Axes>"
            ]
          },
          "metadata": {
            "tags": [],
            "needs_background": "light"
          }
        }
      ]
    },
    {
      "cell_type": "markdown",
      "metadata": {
        "id": "Q3UfoFOhG520"
      },
      "source": [
        "## 3.\tDraw a cumulative frequency plot."
      ]
    },
    {
      "cell_type": "code",
      "metadata": {
        "id": "2rk0QRwnG521",
        "outputId": "a903d965-5048-4a5e-c748-d09787f83b2a"
      },
      "source": [
        "plt.hist(df.Densities, cumulative=True)\n",
        "plt.grid()\n",
        "plt.show()"
      ],
      "execution_count": null,
      "outputs": [
        {
          "output_type": "display_data",
          "data": {
            "image/png": "[encoded data removed]",
            "text/plain": [
              "<Figure size 432x288 with 1 Axes>"
            ]
          },
          "metadata": {
            "tags": [],
            "needs_background": "light"
          }
        }
      ]
    },
    {
      "cell_type": "markdown",
      "metadata": {
        "id": "K2f0_hahG521"
      },
      "source": [
        "## 4.\tDraw a box plot."
      ]
    },
    {
      "cell_type": "code",
      "metadata": {
        "id": "27UMCxi2G521",
        "outputId": "baf609bc-42d6-46e9-d8de-e38448558989"
      },
      "source": [
        "plt.boxplot(df.Densities)\n",
        "plt.grid()\n",
        "plt.show()"
      ],
      "execution_count": null,
      "outputs": [
        {
          "output_type": "display_data",
          "data": {
            "image/png": "[encoded data removed]",
            "text/plain": [
              "<Figure size 432x288 with 1 Axes>"
            ]
          },
          "metadata": {
            "tags": [],
            "needs_background": "light"
          }
        }
      ]
    },
    {
      "cell_type": "markdown",
      "metadata": {
        "id": "rNxrv4DGG522"
      },
      "source": [
        "## 5.\tDraw a time-series plot. "
      ]
    },
    {
      "cell_type": "code",
      "metadata": {
        "id": "1rxynfZiG522",
        "outputId": "16ca6b09-5c5a-46e2-b358-1b82653b069f"
      },
      "source": [
        "plt.plot(df.Densities, marker='o')\n",
        "plt.grid()\n",
        "plt.show()"
      ],
      "execution_count": null,
      "outputs": [
        {
          "output_type": "display_data",
          "data": {
            "image/png": "[encoded data removed]",
            "text/plain": [
              "<Figure size 432x288 with 1 Axes>"
            ]
          },
          "metadata": {
            "tags": [],
            "needs_background": "light"
          }
        }
      ]
    },
    {
      "cell_type": "markdown",
      "metadata": {
        "id": "aUCAJHqLG522"
      },
      "source": [
        "## 6.\tFind the mean, median, and mode of the data."
      ]
    },
    {
      "cell_type": "code",
      "metadata": {
        "id": "_Xz2E4COG522",
        "outputId": "e77e4e7b-a756-4221-f0a6-0745cc0f38b7"
      },
      "source": [
        "print(\"Mean =:\",df.Densities.mean())\n",
        "print(\"Mode =:\",df.Densities.mode()[0])\n",
        "print(\"Median =:\",df.Densities.median())"
      ],
      "execution_count": null,
      "outputs": [
        {
          "output_type": "stream",
          "text": [
            "Mean =: 41.516666666666666\n",
            "Mode =: 41.7\n",
            "Median =: 41.6\n"
          ],
          "name": "stdout"
        }
      ]
    },
    {
      "cell_type": "markdown",
      "metadata": {
        "id": "8JnGe0XFG523"
      },
      "source": [
        "## 7.\tFind the inter quantile range (IQR) of the data."
      ]
    },
    {
      "cell_type": "code",
      "metadata": {
        "id": "LiK6wsDxG523",
        "outputId": "4f374fb8-9200-48b0-d776-51d9e8a63728"
      },
      "source": [
        "print(\"IQR =: \", (df.Densities.quantile(.75)-df.Densities.quantile(.25)))"
      ],
      "execution_count": null,
      "outputs": [
        {
          "output_type": "stream",
          "text": [
            "IQR =:  0.42500000000000426\n"
          ],
          "name": "stdout"
        }
      ]
    },
    {
      "cell_type": "markdown",
      "metadata": {
        "id": "0eclc01fG523"
      },
      "source": [
        "## 8.\tWhat is the probability of seeing 5 heads in 10 tosses of a fair coin?"
      ]
    },
    {
      "cell_type": "code",
      "metadata": {
        "id": "It1QT_XiG523",
        "outputId": "8fd4bec6-781c-476a-d547-fd53f4b32b71"
      },
      "source": [
        "stat.binom.pmf(5, 10, 0.5)"
      ],
      "execution_count": null,
      "outputs": [
        {
          "output_type": "execute_result",
          "data": {
            "text/plain": [
              "0.24609375000000025"
            ]
          },
          "metadata": {
            "tags": []
          },
          "execution_count": 9
        }
      ]
    },
    {
      "cell_type": "markdown",
      "metadata": {
        "id": "tH1O49JHG523"
      },
      "source": [
        "## 9.\tWhat is the probability of seeing 3 failures in 10 runs of a process, if the probability of success on a single run is 90%?"
      ]
    },
    {
      "cell_type": "code",
      "metadata": {
        "id": "uw660cnwG524",
        "outputId": "16a506d6-d1c4-4f82-b0b5-ed023cffa885"
      },
      "source": [
        "stat.binom.pmf(7, 10, 0.90)\n",
        "# alternative: \n",
        "# stat.binom.pmf(3, 10, 1-0.90)"
      ],
      "execution_count": null,
      "outputs": [
        {
          "output_type": "execute_result",
          "data": {
            "text/plain": [
              "0.05739562800000001"
            ]
          },
          "metadata": {
            "tags": []
          },
          "execution_count": 10
        }
      ]
    },
    {
      "cell_type": "markdown",
      "metadata": {
        "id": "gdbksXr9G524"
      },
      "source": [
        "## 10.\tWhat is the probability of 5 successes before a failure, if the probability of success is 0.95?"
      ]
    },
    {
      "cell_type": "code",
      "metadata": {
        "id": "ndUIxj2EG524",
        "outputId": "2ec15899-cd1a-4e75-929b-997cc864a679"
      },
      "source": [
        "stat.geom.pmf(6, 1-0.95)"
      ],
      "execution_count": null,
      "outputs": [
        {
          "output_type": "execute_result",
          "data": {
            "text/plain": [
              "0.03868904687500002"
            ]
          },
          "metadata": {
            "tags": []
          },
          "execution_count": 11
        }
      ]
    },
    {
      "cell_type": "markdown",
      "metadata": {
        "id": "qt9Jio-CG524"
      },
      "source": [
        "## 11.\tWhat is the probability of one defective item in a sample of 3, if altogether there are 5 defectives in a population of 20?"
      ]
    },
    {
      "cell_type": "code",
      "metadata": {
        "id": "H_DB87R7G525",
        "outputId": "93059218-c5b1-43c6-8c23-aba918aca561"
      },
      "source": [
        "stat.hypergeom.pmf(1, 20, 5, 3)"
      ],
      "execution_count": null,
      "outputs": [
        {
          "output_type": "execute_result",
          "data": {
            "text/plain": [
              "0.460526315789474"
            ]
          },
          "metadata": {
            "tags": []
          },
          "execution_count": 12
        }
      ]
    },
    {
      "cell_type": "markdown",
      "metadata": {
        "id": "JENHlJo0G525"
      },
      "source": [
        "## 12.\tWhat is the probability of 5 defects in one m2 of material, if on average there are 3.2 defects per m2?"
      ]
    },
    {
      "cell_type": "code",
      "metadata": {
        "id": "8Ji5Q4QuG525",
        "outputId": "917d488e-46b0-4b1b-ea8b-7493341b1dee"
      },
      "source": [
        "stat.poisson.pmf(5, 3.2)"
      ],
      "execution_count": null,
      "outputs": [
        {
          "output_type": "execute_result",
          "data": {
            "text/plain": [
              "0.11397938346351824"
            ]
          },
          "metadata": {
            "tags": []
          },
          "execution_count": 13
        }
      ]
    },
    {
      "cell_type": "markdown",
      "metadata": {
        "id": "MBdwyHU2G525"
      },
      "source": [
        "## 13.\tWhat is the probability that there will be someone taller than 182.88 cm on the commute bus, given that the commuting population height is normally distributed with mean 175.1 cm and standard deviation 7.42 cm?"
      ]
    },
    {
      "cell_type": "code",
      "metadata": {
        "id": "kMplzaTbG525",
        "outputId": "8c2265c9-a7f0-45da-9ed3-8025ec87adeb"
      },
      "source": [
        "1-stat.norm.cdf(182.88, 175.1, 7.42)"
      ],
      "execution_count": null,
      "outputs": [
        {
          "output_type": "execute_result",
          "data": {
            "text/plain": [
              "0.14720011725682913"
            ]
          },
          "metadata": {
            "tags": []
          },
          "execution_count": 14
        }
      ]
    }
  ]
}