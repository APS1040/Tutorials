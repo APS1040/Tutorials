{
 "cells": [
  {
   "cell_type": "markdown",
   "metadata": {},
   "source": [
    "# Python Solutions to Tutorial 08"
   ]
  },
  {
   "cell_type": "code",
   "execution_count": 1,
   "metadata": {},
   "outputs": [
    {
     "data": {
      "text/html": [
       "<div>\n",
       "<style scoped>\n",
       "    .dataframe tbody tr th:only-of-type {\n",
       "        vertical-align: middle;\n",
       "    }\n",
       "\n",
       "    .dataframe tbody tr th {\n",
       "        vertical-align: top;\n",
       "    }\n",
       "\n",
       "    .dataframe thead th {\n",
       "        text-align: right;\n",
       "    }\n",
       "</style>\n",
       "<table border=\"1\" class=\"dataframe\">\n",
       "  <thead>\n",
       "    <tr style=\"text-align: right;\">\n",
       "      <th></th>\n",
       "      <th>Measurement</th>\n",
       "      <th>Temperature</th>\n",
       "      <th>sample</th>\n",
       "      <th>xi</th>\n",
       "    </tr>\n",
       "  </thead>\n",
       "  <tbody>\n",
       "    <tr>\n",
       "      <th>0</th>\n",
       "      <td>1</td>\n",
       "      <td>953</td>\n",
       "      <td>1.0</td>\n",
       "      <td>9.45</td>\n",
       "    </tr>\n",
       "    <tr>\n",
       "      <th>1</th>\n",
       "      <td>2</td>\n",
       "      <td>945</td>\n",
       "      <td>2.0</td>\n",
       "      <td>7.99</td>\n",
       "    </tr>\n",
       "    <tr>\n",
       "      <th>2</th>\n",
       "      <td>3</td>\n",
       "      <td>972</td>\n",
       "      <td>3.0</td>\n",
       "      <td>9.29</td>\n",
       "    </tr>\n",
       "    <tr>\n",
       "      <th>3</th>\n",
       "      <td>4</td>\n",
       "      <td>980</td>\n",
       "      <td>4.0</td>\n",
       "      <td>11.66</td>\n",
       "    </tr>\n",
       "    <tr>\n",
       "      <th>4</th>\n",
       "      <td>5</td>\n",
       "      <td>975</td>\n",
       "      <td>5.0</td>\n",
       "      <td>12.16</td>\n",
       "    </tr>\n",
       "  </tbody>\n",
       "</table>\n",
       "</div>"
      ],
      "text/plain": [
       "   Measurement  Temperature  sample     xi\n",
       "0            1          953     1.0   9.45\n",
       "1            2          945     2.0   7.99\n",
       "2            3          972     3.0   9.29\n",
       "3            4          980     4.0  11.66\n",
       "4            5          975     5.0  12.16"
      ]
     },
     "execution_count": 1,
     "metadata": {},
     "output_type": "execute_result"
    }
   ],
   "source": [
    "import numpy as np\n",
    "import pandas as pd\n",
    "import matplotlib.pyplot as plt\n",
    "\n",
    "#url = 'https://raw.githubusercontent.com/APS1040/Tutorials/main/Tutorial08_data.csv'\n",
    "#df = pd.read_csv(url)\n",
    "\n",
    "df = pd.read_csv('Tutorial08_data.csv')\n",
    "df.head()"
   ]
  },
  {
   "cell_type": "markdown",
   "metadata": {},
   "source": [
    "## 1.\tEighty measurements of the temperature reading from a chemical process in °C are presented in the dataset. One measurement is taken every two minutes. The target value for the mean is 950. Set up MR and I charts. Is the process in control? "
   ]
  },
  {
   "cell_type": "markdown",
   "metadata": {},
   "source": [
    "First we set up the MR chart:"
   ]
  },
  {
   "cell_type": "code",
   "execution_count": 2,
   "metadata": {},
   "outputs": [
    {
     "name": "stdout",
     "output_type": "stream",
     "text": [
      "12.860759493670885 42.01610126582278 0\n"
     ]
    }
   ],
   "source": [
    "Rs = []\n",
    "Rs.append(0) # set first entry to 0 so the indices do not mix later\n",
    "for n in range(1,80):\n",
    "    R = np.abs(df['Temperature'][n]-df['Temperature'][n-1])\n",
    "    Rs.append(R)\n",
    "    n += 1\n",
    "CL_R = np.sum(Rs)/79\n",
    "UCL_R = 3.267 * CL_R \n",
    "LCL_R = 0\n",
    "print(CL_R, UCL_R, LCL_R)"
   ]
  },
  {
   "cell_type": "code",
   "execution_count": 3,
   "metadata": {},
   "outputs": [],
   "source": [
    "for n in range(1,80):\n",
    "    if(Rs[n-1] > UCL_R):\n",
    "         print(n, 'is out of control')\n",
    "    n += 1"
   ]
  },
  {
   "cell_type": "markdown",
   "metadata": {},
   "source": [
    "MR is in control, so we proceed to build the I chart:"
   ]
  },
  {
   "cell_type": "code",
   "execution_count": 4,
   "metadata": {},
   "outputs": [
    {
     "name": "stdout",
     "output_type": "stream",
     "text": [
      "951.3125 985.5221202531645 917.1028797468355\n"
     ]
    }
   ],
   "source": [
    "CL_x_bar = df['Temperature'].mean()\n",
    "UCL_x_bar = CL_x_bar + 2.66 * CL_R # E2\n",
    "LCL_x_bar = CL_x_bar - 2.66 * CL_R # E2\n",
    "print(CL_x_bar, UCL_x_bar, LCL_x_bar)\n",
    "for n in range(1,80):\n",
    "    if(df['Temperature'][n-1] > UCL_x_bar or df['Temperature'][n-1]<LCL_x_bar ):\n",
    "         print(n, 'is out of control')\n",
    "    n += 1"
   ]
  },
  {
   "cell_type": "markdown",
   "metadata": {},
   "source": [
    "I chart is also in control, so the process is in control"
   ]
  },
  {
   "cell_type": "markdown",
   "metadata": {},
   "source": [
    "## 2.\tBased on the data and the control charts, what is the estimate of the process mean?"
   ]
  },
  {
   "cell_type": "code",
   "execution_count": 5,
   "metadata": {},
   "outputs": [
    {
     "name": "stdout",
     "output_type": "stream",
     "text": [
      "The estimate of the process mean is:  951.3125\n"
     ]
    }
   ],
   "source": [
    "print(\"The estimate of the process mean is: \", CL_x_bar) "
   ]
  },
  {
   "cell_type": "markdown",
   "metadata": {},
   "source": [
    "## 3.\tBased on the data and the control charts, what is the estimate of the process standard deviation?"
   ]
  },
  {
   "cell_type": "code",
   "execution_count": 6,
   "metadata": {},
   "outputs": [
    {
     "name": "stdout",
     "output_type": "stream",
     "text": [
      "The estimate of the process standard deviation is:  11.401382529850077\n"
     ]
    }
   ],
   "source": [
    "sigma = CL_R/1.128\n",
    "print(\"The estimate of the process standard deviation is: \", sigma)"
   ]
  },
  {
   "cell_type": "markdown",
   "metadata": {},
   "source": [
    "## 4. \tSet up a tabular two-sided CUSUM chart for detecting a shift from μ_0 to μ_0+1.0 σ for this process, using standardized values h = 4.77 and k = 0.5.  Does the process appear to be in-control? (Use the estimated values of μ_0 and σ_0)."
   ]
  },
  {
   "cell_type": "code",
   "execution_count": 7,
   "metadata": {},
   "outputs": [
    {
     "name": "stdout",
     "output_type": "stream",
     "text": [
      "5 is out of control: positive part\n",
      "6 is out of control: positive part\n",
      "7 is out of control: positive part\n",
      "8 is out of control: positive part\n",
      "9 is out of control: positive part\n",
      "36 is out of control: negative part\n"
     ]
    }
   ],
   "source": [
    "mu0 = CL_x_bar\n",
    "delta = 1\n",
    "k = 0.5\n",
    "h = 4.77\n",
    "K = k*sigma\n",
    "H = h*sigma\n",
    "\n",
    "ci_p = []\n",
    "ci_n = []\n",
    "\n",
    "for n in range(0,80):\n",
    "    if n==0:\n",
    "        ci_p.append(max(0,df['Temperature'][n] - mu0 - K ))\n",
    "        ci_n.append(max(0,-df['Temperature'][n] + mu0 - K ))\n",
    "    else:\n",
    "        ci_p.append(max(0,df['Temperature'][n] - mu0 - K + ci_p[n-1]))\n",
    "        ci_n.append(max(0,-df['Temperature'][n] + mu0 - K + ci_n[n-1]))\n",
    "\n",
    "    \n",
    "for n in range(0,80):\n",
    "    if(ci_p[n] > H ):\n",
    "         print(n+1, 'is out of control: positive part')\n",
    "    if(ci_n[n] > H ):\n",
    "         print(n+1, 'is out of control: negative part')\n",
    "\n"
   ]
  },
  {
   "cell_type": "code",
   "execution_count": 8,
   "metadata": {},
   "outputs": [
    {
     "data": {
      "image/png": "[encoded data removed]",
      "text/plain": [
       "<Figure size 432x288 with 1 Axes>"
      ]
     },
     "metadata": {
      "needs_background": "light"
     },
     "output_type": "display_data"
    }
   ],
   "source": [
    "m=80\n",
    "ucl_line = np.full(m,H) # create an array with all elements equal to the UCL\n",
    "lcl_line = np.full(m,0) # create an array with all elements equal to the UCL\n",
    "plt.plot(ci_p,marker=\"o\",color='b')\n",
    "plt.plot(ci_n,color='g')\n",
    "plt.plot(ucl_line,color='k')\n",
    "plt.plot(lcl_line,color='k')\n",
    "\n",
    "# These three lines help to set the labels of the x-axis to go from 1 to m\n",
    "labels = list(range(1,m+1)) \n",
    "x = list(range(0,m)) \n",
    "plt.xticks(x,labels) ,\n",
    "\n",
    "plt.grid(True)\n",
    "plt.title('CUSUM')\n",
    "plt.show()"
   ]
  },
  {
   "cell_type": "markdown",
   "metadata": {},
   "source": [
    "process is out of control "
   ]
  },
  {
   "cell_type": "markdown",
   "metadata": {},
   "source": [
    "## 5. \tConsidering the first point lying outside the control limits, what is the estimate of the shifted mean (μ_1) for that sample?"
   ]
  },
  {
   "cell_type": "markdown",
   "metadata": {},
   "source": [
    "5 is the first point out of control. The latest zero before 5 was at 2. therefore, $\\mu_1=\\mu0+ci_p(4)/(5-2)+K$"
   ]
  },
  {
   "cell_type": "code",
   "execution_count": 9,
   "metadata": {},
   "outputs": [
    {
     "name": "stdout",
     "output_type": "stream",
     "text": [
      "975.6666666666666\n"
     ]
    }
   ],
   "source": [
    "mu1 = mu0 + ci_p[4]/3+K\n",
    "print(mu1)"
   ]
  },
  {
   "cell_type": "markdown",
   "metadata": {},
   "source": [
    "## 6. \tAssume that the original value of the standard deviation (σ_0) for the temperature reading is known to be 8.  Develop CUSUM charts for mean and variance. What can we conclude about this process?"
   ]
  },
  {
   "cell_type": "markdown",
   "metadata": {},
   "source": [
    "First calculate the standardized values to be used in mean and variance charts"
   ]
  },
  {
   "cell_type": "code",
   "execution_count": 10,
   "metadata": {},
   "outputs": [],
   "source": [
    "sigma0 = 8\n",
    "mu0 = CL_x_bar\n",
    "df['z'] = (df['Temperature']-mu0)/sigma0\n",
    "df['v'] = (np.sqrt(np.abs(df['z']))-0.822)/0.349"
   ]
  },
  {
   "cell_type": "markdown",
   "metadata": {},
   "source": [
    "Set up the mean chart"
   ]
  },
  {
   "cell_type": "code",
   "execution_count": 11,
   "metadata": {},
   "outputs": [
    {
     "name": "stdout",
     "output_type": "stream",
     "text": [
      "4 is out of control: positive part\n",
      "5 is out of control: positive part\n",
      "6 is out of control: positive part\n",
      "7 is out of control: positive part\n",
      "8 is out of control: positive part\n",
      "9 is out of control: positive part\n",
      "10 is out of control: positive part\n",
      "11 is out of control: positive part\n",
      "12 is out of control: positive part\n",
      "13 is out of control: positive part\n",
      "14 is out of control: positive part\n",
      "15 is out of control: positive part\n",
      "16 is out of control: positive part\n",
      "17 is out of control: positive part\n",
      "20 is out of control: positive part\n",
      "21 is out of control: positive part\n",
      "23 is out of control: positive part\n",
      "24 is out of control: positive part\n",
      "30 is out of control: negative part\n",
      "31 is out of control: negative part\n",
      "32 is out of control: negative part\n",
      "33 is out of control: negative part\n",
      "34 is out of control: negative part\n",
      "35 is out of control: negative part\n",
      "36 is out of control: negative part\n",
      "37 is out of control: negative part\n",
      "38 is out of control: negative part\n",
      "70 is out of control: positive part\n",
      "71 is out of control: positive part\n",
      "74 is out of control: negative part\n",
      "75 is out of control: negative part\n",
      "80 is out of control: negative part\n"
     ]
    }
   ],
   "source": [
    "zi_p = []\n",
    "zi_n = []\n",
    "\n",
    "for n in range(0,80):\n",
    "    if n==0:\n",
    "        zi_p.append(max(0,df['z'][n] - k ))\n",
    "        zi_n.append(max(0,-df['z'][n] - k ))\n",
    "    else:\n",
    "        zi_p.append(max(0,df['z'][n] - k + zi_p[n-1]))\n",
    "        zi_n.append(max(0,-df['z'][n] - k + zi_n[n-1]))\n",
    "    n += 1\n",
    "    \n",
    "for n in range(0,80):\n",
    "    if(zi_p[n] > h ):\n",
    "         print(n+1, 'is out of control: positive part')\n",
    "    if(zi_n[n] > h ):\n",
    "         print(n+1, 'is out of control: negative part')\n",
    "    n += 1"
   ]
  },
  {
   "cell_type": "markdown",
   "metadata": {},
   "source": [
    "Now set up the variance chart"
   ]
  },
  {
   "cell_type": "code",
   "execution_count": 12,
   "metadata": {},
   "outputs": [
    {
     "name": "stdout",
     "output_type": "stream",
     "text": [
      "5 is out of control: positive part\n",
      "6 is out of control: positive part\n",
      "7 is out of control: positive part\n",
      "8 is out of control: positive part\n",
      "9 is out of control: positive part\n",
      "10 is out of control: positive part\n",
      "11 is out of control: positive part\n",
      "12 is out of control: positive part\n",
      "13 is out of control: positive part\n",
      "14 is out of control: positive part\n",
      "15 is out of control: positive part\n",
      "16 is out of control: positive part\n",
      "17 is out of control: positive part\n",
      "18 is out of control: positive part\n",
      "19 is out of control: positive part\n",
      "20 is out of control: positive part\n",
      "21 is out of control: positive part\n",
      "22 is out of control: positive part\n",
      "23 is out of control: positive part\n",
      "24 is out of control: positive part\n",
      "25 is out of control: positive part\n",
      "26 is out of control: positive part\n",
      "27 is out of control: positive part\n",
      "28 is out of control: positive part\n",
      "29 is out of control: positive part\n",
      "30 is out of control: positive part\n",
      "31 is out of control: positive part\n",
      "32 is out of control: positive part\n",
      "33 is out of control: positive part\n",
      "34 is out of control: positive part\n",
      "35 is out of control: positive part\n",
      "36 is out of control: positive part\n",
      "37 is out of control: positive part\n",
      "38 is out of control: positive part\n",
      "39 is out of control: positive part\n",
      "40 is out of control: positive part\n",
      "41 is out of control: positive part\n",
      "42 is out of control: positive part\n",
      "43 is out of control: positive part\n",
      "44 is out of control: positive part\n",
      "45 is out of control: positive part\n",
      "46 is out of control: positive part\n",
      "47 is out of control: positive part\n",
      "48 is out of control: positive part\n",
      "49 is out of control: positive part\n",
      "50 is out of control: positive part\n",
      "51 is out of control: positive part\n",
      "52 is out of control: positive part\n",
      "53 is out of control: positive part\n",
      "54 is out of control: positive part\n",
      "55 is out of control: positive part\n",
      "56 is out of control: positive part\n",
      "57 is out of control: positive part\n",
      "58 is out of control: positive part\n",
      "59 is out of control: positive part\n",
      "60 is out of control: positive part\n",
      "61 is out of control: positive part\n",
      "62 is out of control: positive part\n",
      "63 is out of control: positive part\n",
      "64 is out of control: positive part\n",
      "65 is out of control: positive part\n",
      "66 is out of control: positive part\n",
      "67 is out of control: positive part\n",
      "68 is out of control: positive part\n",
      "69 is out of control: positive part\n",
      "70 is out of control: positive part\n",
      "71 is out of control: positive part\n",
      "72 is out of control: positive part\n",
      "73 is out of control: positive part\n",
      "74 is out of control: positive part\n",
      "75 is out of control: positive part\n",
      "76 is out of control: positive part\n",
      "77 is out of control: positive part\n",
      "78 is out of control: positive part\n",
      "79 is out of control: positive part\n",
      "80 is out of control: positive part\n"
     ]
    }
   ],
   "source": [
    "vi_p = []\n",
    "vi_n = []\n",
    "\n",
    "for n in range(0,80):\n",
    "    if n==0:\n",
    "        vi_p.append(max(0,df['v'][n] - k ))\n",
    "        vi_n.append(max(0,-df['v'][n] - k ))\n",
    "    else:\n",
    "        vi_p.append(max(0,df['v'][n] - k + vi_p[n-1]))\n",
    "        vi_n.append(max(0,-df['v'][n] - k + vi_n[n-1]))\n",
    "    n += 1\n",
    "    \n",
    "for n in range(0,80):\n",
    "    if(vi_p[n] > h ):\n",
    "         print(n+1, 'is out of control: positive part')\n",
    "    if(vi_n[n] > h ):\n",
    "         print(n+1, 'is out of control: negative part')\n",
    "    n += 1"
   ]
  },
  {
   "cell_type": "markdown",
   "metadata": {},
   "source": [
    "In the 5th sample, both the mean and the variance are out-of-bounds and this means that there was a shift in the value of mu in that point."
   ]
  },
  {
   "cell_type": "markdown",
   "metadata": {},
   "source": [
    "## 7.\tAssume that the data was taken from a process considered in-control with mean 10 and standard deviation 1.25. The manager believes something may have happened that might have caused the process to go out of control. The manager wishes to use control charts to determine if and when the process mean shifted by 0.5 σ. Set up a CUSUM chart for the mean. Is the process in control?"
   ]
  },
  {
   "cell_type": "code",
   "execution_count": 13,
   "metadata": {},
   "outputs": [
    {
     "name": "stdout",
     "output_type": "stream",
     "text": [
      "UCL= 10.0125\n"
     ]
    }
   ],
   "source": [
    "mu0 = 10\n",
    "sigma = 1.25\n",
    "delta = 0.5\n",
    "k = 0.25\n",
    "h = 8.01\n",
    "K = k*sigma\n",
    "H = h*sigma\n",
    "print(\"UCL=\", H)"
   ]
  },
  {
   "cell_type": "code",
   "execution_count": 14,
   "metadata": {},
   "outputs": [
    {
     "name": "stdout",
     "output_type": "stream",
     "text": [
      "28 is out of control: positive part\n",
      "29 is out of control: positive part\n",
      "30 is out of control: positive part\n"
     ]
    }
   ],
   "source": [
    "ci_p = []\n",
    "ci_n = []\n",
    "\n",
    "for n in range(0,30):\n",
    "    if n==0:\n",
    "        ci_p.append(max(0,df['xi'][n] - mu0 - K ))\n",
    "        ci_n.append(max(0,-df['xi'][n] + mu0 - K ))\n",
    "    else:\n",
    "        ci_p.append(max(0,df['xi'][n] - mu0 - K + ci_p[n-1]))\n",
    "        ci_n.append(max(0,-df['xi'][n] + mu0 - K + ci_n[n-1]))\n",
    "    n += 1\n",
    "    \n",
    "for n in range(0,30):\n",
    "    if(ci_p[n] > H ):\n",
    "         print(n+1, 'is out of control: positive part')\n",
    "    if(ci_n[n] > H ):\n",
    "         print(n+1, 'is out of control: negative part')\n",
    "    n += 1"
   ]
  },
  {
   "cell_type": "code",
   "execution_count": 15,
   "metadata": {},
   "outputs": [
    {
     "data": {
      "image/png": "[encoded data removed]",
      "text/plain": [
       "<Figure size 432x288 with 1 Axes>"
      ]
     },
     "metadata": {
      "needs_background": "light"
     },
     "output_type": "display_data"
    }
   ],
   "source": [
    "m=30\n",
    "ucl_line = np.full(m,H) # create an array with all elements equal to the UCL\n",
    "lcl_line = np.full(m,0) # create an array with all elements equal to the UCL\n",
    "plt.plot(ci_p,marker=\"o\",color='b')\n",
    "plt.plot(ci_n,color='g')\n",
    "plt.plot(ucl_line,color='k')\n",
    "plt.plot(lcl_line,color='k')\n",
    "\n",
    "# These three lines help to set the labels of the x-axis to go from 1 to m\n",
    "labels = list(range(1,m+1)) \n",
    "x = list(range(0,m)) \n",
    "plt.xticks(x,labels) ,\n",
    "\n",
    "plt.grid(True)\n",
    "plt.title('CUSUM')\n",
    "plt.show()"
   ]
  },
  {
   "cell_type": "markdown",
   "metadata": {},
   "source": [
    "## 8.\tIf the process is out-of-control, when does the chart detect it?"
   ]
  },
  {
   "cell_type": "markdown",
   "metadata": {},
   "source": [
    "Yes, the process is out of control. It detects at 28th point"
   ]
  },
  {
   "cell_type": "markdown",
   "metadata": {},
   "source": [
    "## 9.\tIf the process is out-of-control, what is the estimate of the shifted mean?"
   ]
  },
  {
   "cell_type": "code",
   "execution_count": 16,
   "metadata": {},
   "outputs": [
    {
     "name": "stdout",
     "output_type": "stream",
     "text": [
      "10.941176470588236\n"
     ]
    }
   ],
   "source": [
    "mu1 = mu0 + ci_p[27]/(28-11)+K\n",
    "print(mu1)"
   ]
  }
 ],
 "metadata": {
  "kernelspec": {
   "display_name": "Python 3",
   "language": "python",
   "name": "python3"
  },
  "language_info": {
   "codemirror_mode": {
    "name": "ipython",
    "version": 3
   },
   "file_extension": ".py",
   "mimetype": "text/x-python",
   "name": "python",
   "nbconvert_exporter": "python",
   "pygments_lexer": "ipython3",
   "version": "3.7.7"
  }
 },
 "nbformat": 4,
 "nbformat_minor": 4
}
