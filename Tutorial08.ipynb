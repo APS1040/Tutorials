{
  "nbformat": 4,
  "nbformat_minor": 0,
  "metadata": {
    "kernelspec": {
      "display_name": "Python 3",
      "language": "python",
      "name": "python3"
    },
    "language_info": {
      "codemirror_mode": {
        "name": "ipython",
        "version": 3
      },
      "file_extension": ".py",
      "mimetype": "text/x-python",
      "name": "python",
      "nbconvert_exporter": "python",
      "pygments_lexer": "ipython3",
      "version": "3.7.7"
    },
    "colab": {
      "name": "Tutorial08.ipynb",
      "provenance": []
    }
  },
  "cells": [
    {
      "cell_type": "markdown",
      "metadata": {
        "id": "hi4OQIY1I1Id"
      },
      "source": [
        "# Python Solutions to Tutorial 08"
      ]
    },
    {
      "cell_type": "code",
      "metadata": {
        "id": "-gSJ0R0yI1If",
        "outputId": "bd30eaa9-9a9b-4df9-d35f-f6ee26ec8475",
        "colab": {
          "base_uri": "https://localhost:8080/",
          "height": 202
        }
      },
      "source": [
        "import numpy as np\n",
        "import pandas as pd\n",
        "import scipy.stats as stat\n",
        "import matplotlib.pyplot as plt\n",
        "\n",
        "#df = pd.read_csv('Tutorial08_data.csv')\n",
        "\n",
        "url = 'https://raw.githubusercontent.com/APS1040/Tutorials/main/Tutorial08_data.csv'\n",
        "df = pd.read_csv(url)\n",
        "df.head()"
      ],
      "execution_count": 1,
      "outputs": [
        {
          "output_type": "execute_result",
          "data": {
            "text/html": [
              "<div>\n",
              "<style scoped>\n",
              "    .dataframe tbody tr th:only-of-type {\n",
              "        vertical-align: middle;\n",
              "    }\n",
              "\n",
              "    .dataframe tbody tr th {\n",
              "        vertical-align: top;\n",
              "    }\n",
              "\n",
              "    .dataframe thead th {\n",
              "        text-align: right;\n",
              "    }\n",
              "</style>\n",
              "<table border=\"1\" class=\"dataframe\">\n",
              "  <thead>\n",
              "    <tr style=\"text-align: right;\">\n",
              "      <th></th>\n",
              "      <th>Sample</th>\n",
              "      <th>Vol</th>\n",
              "    </tr>\n",
              "  </thead>\n",
              "  <tbody>\n",
              "    <tr>\n",
              "      <th>0</th>\n",
              "      <td>1</td>\n",
              "      <td>6</td>\n",
              "    </tr>\n",
              "    <tr>\n",
              "      <th>1</th>\n",
              "      <td>1</td>\n",
              "      <td>9</td>\n",
              "    </tr>\n",
              "    <tr>\n",
              "      <th>2</th>\n",
              "      <td>1</td>\n",
              "      <td>10</td>\n",
              "    </tr>\n",
              "    <tr>\n",
              "      <th>3</th>\n",
              "      <td>1</td>\n",
              "      <td>15</td>\n",
              "    </tr>\n",
              "    <tr>\n",
              "      <th>4</th>\n",
              "      <td>2</td>\n",
              "      <td>10</td>\n",
              "    </tr>\n",
              "  </tbody>\n",
              "</table>\n",
              "</div>"
            ],
            "text/plain": [
              "   Sample  Vol\n",
              "0       1    6\n",
              "1       1    9\n",
              "2       1   10\n",
              "3       1   15\n",
              "4       2   10"
            ]
          },
          "metadata": {
            "tags": []
          },
          "execution_count": 1
        }
      ]
    },
    {
      "cell_type": "markdown",
      "metadata": {
        "id": "eaLz0ccsI1If"
      },
      "source": [
        "## 1.\tA high-level voltage power supply should have a nominal output voltage of 350 V. A sample of four units is selected each day and tested for process control purposes. The data shown in the dataset give the difference between the observed reading on each unit and the nominal voltage times ten; that is, Vol_i= (observed voltage on unit i - 350)*10. Set up X-bar and R charts. Is the process in statistical control?"
      ]
    },
    {
      "cell_type": "code",
      "metadata": {
        "id": "vUEy1yheI1Ig",
        "outputId": "5dca3b88-2d8d-4c04-8a4d-65c3fab7b556"
      },
      "source": [
        "m = 20 \n",
        "R_accum = 0 \n",
        "Rs = [] \n",
        "\n",
        "for n in range (1,m+1):        \n",
        "    max = df.loc[df['Sample']==n,'Vol'].max()\n",
        "    min = df.loc[df['Sample']==n,'Vol'].min()\n",
        "    R = max-min\n",
        "    R_accum = R_accum + R\n",
        "    Rs.append(R)\n",
        "CL_R = R_accum/m\n",
        "print(CL_R)\n",
        "UCL_R = 2.282 * CL_R \n",
        "LCL_R = 0\n",
        "print(LCL_R, UCL_R)"
      ],
      "execution_count": null,
      "outputs": [
        {
          "output_type": "stream",
          "text": [
            "6.25\n",
            "0 14.2625\n"
          ],
          "name": "stdout"
        }
      ]
    },
    {
      "cell_type": "code",
      "metadata": {
        "id": "D_VsnLnVI1Ih"
      },
      "source": [
        "for n in range(1,m+1):\n",
        "    if Rs[n-1] >= UCL_R: \n",
        "         print(n, 'is out of bounds')"
      ],
      "execution_count": null,
      "outputs": []
    },
    {
      "cell_type": "code",
      "metadata": {
        "id": "K6XUjJilI1Ih",
        "outputId": "1436a57c-f3db-41c4-a368-b96a4edbc7e5"
      },
      "source": [
        "m = 20\n",
        "x_bar_accum = 0\n",
        "x_bars = []\n",
        "\n",
        "for n in range (1,m+1):        \n",
        "    x_bar = df.loc[df['Sample']==n,'Vol'].mean()\n",
        "    x_bars.append(x_bar)\n",
        "    x_bar_accum = x_bar_accum+x_bar\n",
        "\n",
        "CL_x_bar = x_bar_accum/m\n",
        "print(CL_x_bar)\n",
        "\n",
        "UCL_x_bar = CL_x_bar + 0.729 * CL_R # A2\n",
        "LCL_x_bar = CL_x_bar - 0.729 * CL_R # A2\n",
        "\n",
        "print(UCL_x_bar, LCL_x_bar)"
      ],
      "execution_count": null,
      "outputs": [
        {
          "output_type": "stream",
          "text": [
            "10.325\n",
            "14.881249999999998 5.76875\n"
          ],
          "name": "stdout"
        }
      ]
    },
    {
      "cell_type": "code",
      "metadata": {
        "id": "M2gwRY_vI1Ih"
      },
      "source": [
        "for n in range(1,m+1):\n",
        "    if (x_bars[n-1] > UCL_x_bar or x_bars[n-1] < LCL_x_bar ): \n",
        "         print(n, 'is out of bounds')"
      ],
      "execution_count": null,
      "outputs": []
    },
    {
      "cell_type": "markdown",
      "metadata": {
        "id": "KDmpbzNbI1Ii"
      },
      "source": [
        "It is in control"
      ]
    },
    {
      "cell_type": "markdown",
      "metadata": {
        "id": "_3WyvoUsI1Ii"
      },
      "source": [
        "## 2.\tWhat is the estimate of the process mean?"
      ]
    },
    {
      "cell_type": "code",
      "metadata": {
        "id": "3KFzZTJaI1Ii",
        "outputId": "706a7f02-9979-4130-9424-cc6b6db432f0"
      },
      "source": [
        "print(CL_x_bar)"
      ],
      "execution_count": null,
      "outputs": [
        {
          "output_type": "stream",
          "text": [
            "10.325\n"
          ],
          "name": "stdout"
        }
      ]
    },
    {
      "cell_type": "markdown",
      "metadata": {
        "id": "-bxtvwA-I1Ii"
      },
      "source": [
        "## 3.\tWhat is the estimate of the process standard deviation?"
      ]
    },
    {
      "cell_type": "code",
      "metadata": {
        "id": "xH8MxCeaI1Ij",
        "outputId": "e4f02ad2-3216-4137-db1e-70d64709f2e3"
      },
      "source": [
        "sigma = CL_R/2.059 #R_bar/d2\n",
        "print(sigma)"
      ],
      "execution_count": null,
      "outputs": [
        {
          "output_type": "stream",
          "text": [
            "3.035454103933948\n"
          ],
          "name": "stdout"
        }
      ]
    },
    {
      "cell_type": "markdown",
      "metadata": {
        "id": "GyAzBHtSI1Ij"
      },
      "source": [
        "## 4.\tWhat are the Natural Tolerance Limits for this process?"
      ]
    },
    {
      "cell_type": "code",
      "metadata": {
        "id": "7mcRohQ4I1Ij",
        "outputId": "0201214e-5fdc-417b-8c2f-94c9243fc133"
      },
      "source": [
        "ul = CL_x_bar+3*sigma\n",
        "ll = CL_x_bar-3*sigma\n",
        "print(ll,ul)"
      ],
      "execution_count": null,
      "outputs": [
        {
          "output_type": "stream",
          "text": [
            "1.2186376881981538 19.431362311801845\n"
          ],
          "name": "stdout"
        }
      ]
    },
    {
      "cell_type": "markdown",
      "metadata": {
        "id": "zlw1sE_RI1Ij"
      },
      "source": [
        "## 5.\tIf the specifications are USL = 352V, LSL = 348V, what is the value of Cp? "
      ]
    },
    {
      "cell_type": "code",
      "metadata": {
        "id": "Hvha24_-I1Ik",
        "outputId": "85c12c84-dc43-4434-86c7-690c4cf8741b"
      },
      "source": [
        "cp = (20-(-20))/(6*sigma)\n",
        "print(cp)"
      ],
      "execution_count": null,
      "outputs": [
        {
          "output_type": "stream",
          "text": [
            "2.196266666666667\n"
          ],
          "name": "stdout"
        }
      ]
    },
    {
      "cell_type": "markdown",
      "metadata": {
        "id": "_IjHM0biI1Ik"
      },
      "source": [
        "## 6.\tIs the basic capability requirement met (i.e., is the process capable)? Explain."
      ]
    },
    {
      "cell_type": "markdown",
      "metadata": {
        "id": "wxumvKgHI1Ik"
      },
      "source": [
        "Yes it is met because cp > 1"
      ]
    },
    {
      "cell_type": "markdown",
      "metadata": {
        "id": "eHLiulmCI1Il"
      },
      "source": [
        "## 7.\tWhat is the process fallout? "
      ]
    },
    {
      "cell_type": "code",
      "metadata": {
        "id": "u2U0tr8hI1Il",
        "outputId": "049c7ba4-5b90-445b-fe70-886f86f9b54d"
      },
      "source": [
        "# in ppm\n",
        "(stat.norm.cdf(-20, CL_x_bar,sigma)+1-stat.norm.cdf(20, CL_x_bar,sigma))*(10**6)"
      ],
      "execution_count": null,
      "outputs": [
        {
          "output_type": "execute_result",
          "data": {
            "text/plain": [
              "717.9592415318403"
            ]
          },
          "metadata": {
            "tags": []
          },
          "execution_count": 10
        }
      ]
    },
    {
      "cell_type": "markdown",
      "metadata": {
        "id": "a2P0TjqSI1Il"
      },
      "source": [
        "## 8.\tWhat is the value of CPK? "
      ]
    },
    {
      "cell_type": "code",
      "metadata": {
        "id": "omNc58IiI1Il",
        "outputId": "77b3bb34-1bb8-4d3d-f2d2-2d13e2bc5afe"
      },
      "source": [
        "cpu = (20-CL_x_bar)/(3*sigma)\n",
        "cpl = (CL_x_bar-(-20))/(3*sigma)\n",
        "cpk = min(cpu,cpl)\n",
        "print(cpk)"
      ],
      "execution_count": null,
      "outputs": [
        {
          "output_type": "stream",
          "text": [
            "1.0624440000000002\n"
          ],
          "name": "stdout"
        }
      ]
    },
    {
      "cell_type": "markdown",
      "metadata": {
        "id": "vSscUDKoI1Im"
      },
      "source": [
        "## 9.\tWhat is the best approximation of the process fallout if you calculate using CPK? "
      ]
    },
    {
      "cell_type": "code",
      "metadata": {
        "id": "SkkiyaT0I1Im",
        "outputId": "efb7038f-80cc-444d-c8c8-83744773e206"
      },
      "source": [
        "# approximate using c_pk\n",
        "(1-stat.norm.cdf(3*cpk, 0,1))*(10**6)"
      ],
      "execution_count": null,
      "outputs": [
        {
          "output_type": "execute_result",
          "data": {
            "text/plain": [
              "717.9592415318403"
            ]
          },
          "metadata": {
            "tags": []
          },
          "execution_count": 12
        }
      ]
    },
    {
      "cell_type": "markdown",
      "metadata": {
        "id": "hVuqVNGXI1Im"
      },
      "source": [
        "## 10.\tIs the process centred? Explain."
      ]
    },
    {
      "cell_type": "markdown",
      "metadata": {
        "id": "rl93itYPI1Im"
      },
      "source": [
        "No, a process is centered if cpl=cpu"
      ]
    },
    {
      "cell_type": "code",
      "metadata": {
        "id": "_CsPKCzYI1In",
        "outputId": "ad687ac4-48ce-4a84-f9df-c58a086cd67e"
      },
      "source": [
        "print(cpl, cpu)\n",
        "print(cpl == cpu)"
      ],
      "execution_count": null,
      "outputs": [
        {
          "output_type": "stream",
          "text": [
            "3.3300893333333335 1.0624440000000002\n",
            "False\n"
          ],
          "name": "stdout"
        }
      ]
    },
    {
      "cell_type": "markdown",
      "metadata": {
        "id": "RSNGiX_DI1In"
      },
      "source": [
        "## 11.\tWhat is the value of CPM? "
      ]
    },
    {
      "cell_type": "code",
      "metadata": {
        "id": "0AtVMcRqI1In",
        "outputId": "f715e2a8-e168-4bcd-f3ed-9d20eb3a4c10"
      },
      "source": [
        "t = (20+(-20))/2\n",
        "cpm = cp/(np.sqrt(1+( (CL_x_bar-t)/sigma )**2 ))\n",
        "print(cpm)"
      ],
      "execution_count": null,
      "outputs": [
        {
          "output_type": "stream",
          "text": [
            "0.6194663187960908\n"
          ],
          "name": "stdout"
        }
      ]
    },
    {
      "cell_type": "code",
      "metadata": {
        "id": "qKoY9f0mI1In"
      },
      "source": [
        ""
      ],
      "execution_count": null,
      "outputs": []
    }
  ]
}