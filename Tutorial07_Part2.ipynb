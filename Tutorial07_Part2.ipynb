{
 "cells": [
  {
   "cell_type": "markdown",
   "metadata": {},
   "source": [
    "# Python Solutions Tutorial 07 - Part 2"
   ]
  },
  {
   "cell_type": "code",
   "execution_count": 1,
   "metadata": {},
   "outputs": [],
   "source": [
    "import numpy as np\n",
    "import pandas as pd\n",
    "import scipy.stats as stat\n",
    "import math as mt\n",
    "\n",
    "df = pd.read_csv('Tutorial07_Part2_data.csv')"
   ]
  },
  {
   "cell_type": "markdown",
   "metadata": {},
   "source": [
    "## 1.\tThe number of nonconformities found on inspection of a tape deck is shown in the data. Is the process in statistical control? "
   ]
  },
  {
   "cell_type": "code",
   "execution_count": 2,
   "metadata": {},
   "outputs": [
    {
     "name": "stdout",
     "output_type": "stream",
     "text": [
      "1.5 5.174234614174766 0\n"
     ]
    }
   ],
   "source": [
    "# c chart\n",
    "m = 18\n",
    "CL = df['num_nonc'].mean()\n",
    "UCL = CL + 3* np.sqrt(CL)\n",
    "LCL = max(CL - 3* np.sqrt(CL),0)\n",
    "print(CL, UCL, LCL)"
   ]
  },
  {
   "cell_type": "code",
   "execution_count": 3,
   "metadata": {},
   "outputs": [],
   "source": [
    "for i in range(1,m+1):\n",
    "    if(df['num_nonc'][i-1] > UCL or df['num_nonc'][i-1] < LCL):\n",
    "        print(i, 'is out of control')"
   ]
  },
  {
   "cell_type": "markdown",
   "metadata": {},
   "source": [
    "it is in control"
   ]
  },
  {
   "cell_type": "markdown",
   "metadata": {},
   "source": [
    "## 2.\tWhat center line and control limits would you recommend for controlling future production?"
   ]
  },
  {
   "cell_type": "code",
   "execution_count": 4,
   "metadata": {},
   "outputs": [
    {
     "name": "stdout",
     "output_type": "stream",
     "text": [
      "1.5 5.174234614174766 0\n"
     ]
    }
   ],
   "source": [
    "# since it is in control\n",
    "print(CL, UCL, LCL)\n"
   ]
  },
  {
   "cell_type": "markdown",
   "metadata": {},
   "source": [
    "## 3.\tA police agency is studying the incidence of drivers operating their vehicles without insurance. The data are collected from drivers who have been stopped by an officer for a traffic law violation and a traffic summons issued. Data from three shifts over a ten-day period are shown in columns 'num_cit' (number of inspected) and 'num_wo' (number of without insurance). What is a CL for a u-chart?"
   ]
  },
  {
   "cell_type": "code",
   "execution_count": 5,
   "metadata": {},
   "outputs": [
    {
     "name": "stdout",
     "output_type": "stream",
     "text": [
      "0.0877808988764045\n"
     ]
    }
   ],
   "source": [
    "CL = df['num_wo'].sum()/df['num_cit'].sum()\n",
    "print(CL)"
   ]
  },
  {
   "cell_type": "markdown",
   "metadata": {},
   "source": [
    "## 4.\tSet up a varying limit chart for the process. Is the process in control?"
   ]
  },
  {
   "cell_type": "code",
   "execution_count": 6,
   "metadata": {},
   "outputs": [],
   "source": [
    "# u chart\n",
    "m = 30 \n",
    "df['UCL'] = CL + 3* np.sqrt(CL/df['num_cit'])\n",
    "df['LCL'] = CL - 3* np.sqrt(CL/df['num_cit'])\n",
    "df.loc[df['LCL'] < 0, 'LCL'] = 0\n",
    "\n",
    "u_hat = df['num_wo']/df['num_cit']"
   ]
  },
  {
   "cell_type": "code",
   "execution_count": 7,
   "metadata": {},
   "outputs": [],
   "source": [
    "for i in range(1,m+1):\n",
    "    if(u_hat[i-1] > UCL or u_hat[i-1] < LCL):\n",
    "        print(i, 'is out of control')"
   ]
  },
  {
   "cell_type": "markdown",
   "metadata": {},
   "source": [
    "it is in control"
   ]
  },
  {
   "cell_type": "markdown",
   "metadata": {},
   "source": [
    "## 5.\tThe types of nonconformities are classified as either A, B, C or D in a company. The weights used for each class are 100 for A, 50 for B, 10 for C and 1 for D. A sample of size 1500 was taken and the number of nonconformities per class is shown in the table. What is the total number of demerit points in the sample?"
   ]
  },
  {
   "cell_type": "code",
   "execution_count": 8,
   "metadata": {},
   "outputs": [
    {
     "name": "stdout",
     "output_type": "stream",
     "text": [
      "583\n"
     ]
    }
   ],
   "source": [
    "w_a = 100\n",
    "w_b = 50\n",
    "w_c = 10\n",
    "w_d = 1\n",
    "d = w_a *(2) + w_b*(5) + w_c*(12) +w_d*(13)\n",
    "print(d)"
   ]
  },
  {
   "cell_type": "markdown",
   "metadata": {},
   "source": [
    "## 6.\tWhat is the average number of each class of defect per unit?"
   ]
  },
  {
   "cell_type": "code",
   "execution_count": 9,
   "metadata": {},
   "outputs": [
    {
     "name": "stdout",
     "output_type": "stream",
     "text": [
      "0.0013333333333333333 0.0033333333333333335 0.008 0.008666666666666666\n"
     ]
    }
   ],
   "source": [
    "u_A = 2/1500\n",
    "u_B = 5/1500\n",
    "u_C = 12/1500\n",
    "u_D = 13/1500\n",
    "print(u_A,u_B, u_C, u_D)"
   ]
  },
  {
   "cell_type": "markdown",
   "metadata": {},
   "source": [
    "## 7.\tWhat are the control limits that should be used to construct a demerit control chart?"
   ]
  },
  {
   "cell_type": "code",
   "execution_count": 10,
   "metadata": {},
   "outputs": [
    {
     "name": "stdout",
     "output_type": "stream",
     "text": [
      "0.3886666666666667 0.7558886703647022 0.021444662968631234\n"
     ]
    }
   ],
   "source": [
    "CL = w_a *(u_A) + w_b*(u_B) + w_c*(u_C) +w_d*(u_D)\n",
    "sigma = np.sqrt(((100**2) *u_A+(50**2)*u_B+ (10**2)*u_C+ u_D)/1500 )\n",
    "UCL = CL + 3*sigma\n",
    "LCL = max(0,CL - 3*sigma)\n",
    "print(CL, UCL, LCL)"
   ]
  }
 ],
 "metadata": {
  "kernelspec": {
   "display_name": "Python 3",
   "language": "python",
   "name": "python3"
  },
  "language_info": {
   "codemirror_mode": {
    "name": "ipython",
    "version": 3
   },
   "file_extension": ".py",
   "mimetype": "text/x-python",
   "name": "python",
   "nbconvert_exporter": "python",
   "pygments_lexer": "ipython3",
   "version": "3.7.7"
  }
 },
 "nbformat": 4,
 "nbformat_minor": 4
}
