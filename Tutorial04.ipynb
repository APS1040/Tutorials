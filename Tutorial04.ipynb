{
 "cells": [
  {
   "cell_type": "markdown",
   "metadata": {},
   "source": [
    "# Python Solutions to Tutorial 04"
   ]
  },
  {
   "cell_type": "code",
   "execution_count": 1,
   "metadata": {},
   "outputs": [
    {
     "data": {
      "text/html": [
       "<div>\n",
       "<style scoped>\n",
       "    .dataframe tbody tr th:only-of-type {\n",
       "        vertical-align: middle;\n",
       "    }\n",
       "\n",
       "    .dataframe tbody tr th {\n",
       "        vertical-align: top;\n",
       "    }\n",
       "\n",
       "    .dataframe thead th {\n",
       "        text-align: right;\n",
       "    }\n",
       "</style>\n",
       "<table border=\"1\" class=\"dataframe\">\n",
       "  <thead>\n",
       "    <tr style=\"text-align: right;\">\n",
       "      <th></th>\n",
       "      <th>Sample Number</th>\n",
       "      <th>Thickness</th>\n",
       "      <th>Wafer</th>\n",
       "      <th>Layer thickness</th>\n",
       "    </tr>\n",
       "  </thead>\n",
       "  <tbody>\n",
       "    <tr>\n",
       "      <th>0</th>\n",
       "      <td>1</td>\n",
       "      <td>0.0629</td>\n",
       "      <td>1.0</td>\n",
       "      <td>11.0</td>\n",
       "    </tr>\n",
       "    <tr>\n",
       "      <th>1</th>\n",
       "      <td>1</td>\n",
       "      <td>0.0636</td>\n",
       "      <td>2.0</td>\n",
       "      <td>16.0</td>\n",
       "    </tr>\n",
       "    <tr>\n",
       "      <th>2</th>\n",
       "      <td>1</td>\n",
       "      <td>0.0640</td>\n",
       "      <td>3.0</td>\n",
       "      <td>22.0</td>\n",
       "    </tr>\n",
       "    <tr>\n",
       "      <th>3</th>\n",
       "      <td>2</td>\n",
       "      <td>0.0630</td>\n",
       "      <td>4.0</td>\n",
       "      <td>14.0</td>\n",
       "    </tr>\n",
       "    <tr>\n",
       "      <th>4</th>\n",
       "      <td>2</td>\n",
       "      <td>0.0631</td>\n",
       "      <td>5.0</td>\n",
       "      <td>34.0</td>\n",
       "    </tr>\n",
       "  </tbody>\n",
       "</table>\n",
       "</div>"
      ],
      "text/plain": [
       "   Sample Number  Thickness  Wafer  Layer thickness\n",
       "0              1     0.0629    1.0             11.0\n",
       "1              1     0.0636    2.0             16.0\n",
       "2              1     0.0640    3.0             22.0\n",
       "3              2     0.0630    4.0             14.0\n",
       "4              2     0.0631    5.0             34.0"
      ]
     },
     "execution_count": 1,
     "metadata": {},
     "output_type": "execute_result"
    }
   ],
   "source": [
    "import pandas as pd\n",
    "import numpy as np\n",
    "import matplotlib.pyplot as plt\n",
    "import scipy.stats as stat \n",
    "\n",
    "#url = 'https://raw.githubusercontent.com/APS1040/Tutorials/main/Tutorial04_data.csv'\n",
    "#df = pd.read_csv(url)\n",
    "\n",
    "\n",
    "df = pd.read_csv('Tutorial04_data.csv')\n",
    "df.head()\n"
   ]
  },
  {
   "cell_type": "markdown",
   "metadata": {},
   "source": [
    "## 1.\tThe thickness of a printed circuit board is an important quality parameter. Data on board thickness (in inches) are given in the dataset for 25 samples of three boards each.  Set up X-bar and S control charts. Is the process in statistical control?"
   ]
  },
  {
   "cell_type": "markdown",
   "metadata": {},
   "source": [
    "S chart"
   ]
  },
  {
   "cell_type": "code",
   "execution_count": 69,
   "metadata": {},
   "outputs": [
    {
     "name": "stdout",
     "output_type": "stream",
     "text": [
      "0.00047817114987414434\n",
      "0 0.0012279435128768027\n"
     ]
    }
   ],
   "source": [
    "m = 25 \n",
    "s_accum = 0 \n",
    "Ss = [] \n",
    "for n in range (1,m+1):        \n",
    "    s = df.loc[df['Sample Number']==n,'Thickness'].std()\n",
    "    s_accum = s_accum + s\n",
    "    Ss.append(s)\n",
    "CL_s = s_accum/m\n",
    "print(CL_s)\n",
    "\n",
    "UCL_s = 2.568 * CL_s \n",
    "LCL_s = 0\n",
    "print(LCL_s, UCL_s)"
   ]
  },
  {
   "cell_type": "code",
   "execution_count": 70,
   "metadata": {},
   "outputs": [
    {
     "name": "stdout",
     "output_type": "stream",
     "text": [
      "15 is out of bounds\n"
     ]
    }
   ],
   "source": [
    "for n in range(1,m+1):\n",
    "    if Ss[n-1] >= UCL_s: \n",
    "         print(n, 'is out of bounds')"
   ]
  },
  {
   "cell_type": "markdown",
   "metadata": {},
   "source": [
    "Therefore, the process is out of control."
   ]
  },
  {
   "cell_type": "markdown",
   "metadata": {},
   "source": [
    "## 2.\tAfter deleting the out-of-control points, what should be the upper and lower control limits for the S chart?"
   ]
  },
  {
   "cell_type": "markdown",
   "metadata": {},
   "source": [
    "Take 15 out:"
   ]
  },
  {
   "cell_type": "code",
   "execution_count": 71,
   "metadata": {},
   "outputs": [
    {
     "name": "stdout",
     "output_type": "stream",
     "text": [
      "0.000445997727414703\n",
      "0 0.0011453221640009574\n"
     ]
    }
   ],
   "source": [
    "m = 25 \n",
    "s_accum = 0 \n",
    "Ss = [] \n",
    "for n in range (1,m+1):        \n",
    "    s = df.loc[df['Sample Number']==n,'Thickness'].std()\n",
    "    if n != 15:\n",
    "        s_accum = s_accum + s\n",
    "        Ss.append(s)\n",
    "    else:\n",
    "        Ss.append(np.nan)\n",
    "        \n",
    "CL_s = s_accum/(m-1)\n",
    "print(CL_s)\n",
    "UCL_s = 2.568 * CL_s \n",
    "LCL_s = 0\n",
    "print(LCL_s, UCL_s)"
   ]
  },
  {
   "cell_type": "code",
   "execution_count": 72,
   "metadata": {},
   "outputs": [],
   "source": [
    "for n in range(1,m+1):\n",
    "    if Ss[n-1] >= UCL_s: \n",
    "         print(n, 'is out of bounds')"
   ]
  },
  {
   "cell_type": "markdown",
   "metadata": {},
   "source": [
    "No points out of control, so S chart is in control."
   ]
  },
  {
   "cell_type": "code",
   "execution_count": 73,
   "metadata": {},
   "outputs": [
    {
     "name": "stdout",
     "output_type": "stream",
     "text": [
      "0 0.0011453221640009574\n"
     ]
    }
   ],
   "source": [
    "print(LCL_s, UCL_s)"
   ]
  },
  {
   "cell_type": "markdown",
   "metadata": {},
   "source": [
    "## 3.\tBased on the S chart obtained in the previous question, what is the estimate of the standard deviation for this process?"
   ]
  },
  {
   "cell_type": "code",
   "execution_count": 74,
   "metadata": {},
   "outputs": [
    {
     "name": "stdout",
     "output_type": "stream",
     "text": [
      "0.0005032698345911792\n"
     ]
    }
   ],
   "source": [
    "sigma=CL_s/0.8862\n",
    "print(sigma)"
   ]
  },
  {
   "cell_type": "markdown",
   "metadata": {},
   "source": [
    "## 4.\tWhat are the upper and lower control limits for the in-control X-bar chart?"
   ]
  },
  {
   "cell_type": "code",
   "execution_count": 75,
   "metadata": {},
   "outputs": [
    {
     "name": "stdout",
     "output_type": "stream",
     "text": [
      "0.062952\n",
      "0.06382347955936832 0.06208052044063166\n"
     ]
    }
   ],
   "source": [
    "m = 25\n",
    "x_bar_accum = 0\n",
    "x_bars = []\n",
    "\n",
    "for n in range (1,m+1):        \n",
    "    x_bar = df.loc[df['Sample Number']==n,'Thickness'].mean()\n",
    "    x_bars.append(x_bar)\n",
    "    x_bar_accum = x_bar_accum+x_bar\n",
    "\n",
    "CL_x_bar = x_bar_accum/m\n",
    "print(CL_x_bar)\n",
    "\n",
    "UCL_x_bar = CL_x_bar + 1.954 * CL_s \n",
    "LCL_x_bar = CL_x_bar - 1.954 * CL_s \n",
    "\n",
    "print(UCL_x_bar, LCL_x_bar)"
   ]
  },
  {
   "cell_type": "code",
   "execution_count": 76,
   "metadata": {},
   "outputs": [
    {
     "name": "stdout",
     "output_type": "stream",
     "text": [
      "14 is out of bounds\n",
      "22 is out of bounds\n"
     ]
    }
   ],
   "source": [
    "for n in range(1,m+1):\n",
    "    if (x_bars[n-1] > UCL_x_bar or x_bars[n-1] < LCL_x_bar ): \n",
    "         print(n, 'is out of bounds')"
   ]
  },
  {
   "cell_type": "markdown",
   "metadata": {},
   "source": [
    "Take out 14 and 22"
   ]
  },
  {
   "cell_type": "code",
   "execution_count": 77,
   "metadata": {},
   "outputs": [
    {
     "name": "stdout",
     "output_type": "stream",
     "text": [
      "0.06295507246376811\n",
      "0.06382655202313643 0.06208359290439978\n"
     ]
    }
   ],
   "source": [
    "x_bar_accum = 0\n",
    "x_bars = []\n",
    "for n in range (1,m+1):        \n",
    "    x_bar = df.loc[df['Sample Number']==n,'Thickness'].mean()\n",
    "    if (n!=14 and n!=22):\n",
    "        x_bar_accum = x_bar_accum + x_bar\n",
    "        x_bars.append(x_bar)\n",
    "    else:\n",
    "        x_bars.append(np.nan)\n",
    "             \n",
    "CL_x_bar = x_bar_accum/(m-2)\n",
    "print(CL_x_bar)\n",
    "\n",
    "UCL_x_bar = CL_x_bar + 1.954 * CL_s \n",
    "LCL_x_bar = CL_x_bar - 1.954 * CL_s \n",
    "\n",
    "print(UCL_x_bar, LCL_x_bar)"
   ]
  },
  {
   "cell_type": "code",
   "execution_count": 78,
   "metadata": {},
   "outputs": [],
   "source": [
    "for n in range(1,m+1):\n",
    "    if (x_bars[n-1] > UCL_x_bar or x_bars[n-1] < LCL_x_bar ): \n",
    "         print(n, 'is out of bounds')"
   ]
  },
  {
   "cell_type": "markdown",
   "metadata": {},
   "source": [
    "No points out of control now. Final values:"
   ]
  },
  {
   "cell_type": "code",
   "execution_count": 79,
   "metadata": {},
   "outputs": [
    {
     "name": "stdout",
     "output_type": "stream",
     "text": [
      "0.06382655202313643 0.06208359290439978\n"
     ]
    }
   ],
   "source": [
    "print(UCL_x_bar, LCL_x_bar)"
   ]
  },
  {
   "cell_type": "markdown",
   "metadata": {},
   "source": [
    "# 5. What is the estimate of the mean for this process?"
   ]
  },
  {
   "cell_type": "code",
   "execution_count": 80,
   "metadata": {},
   "outputs": [
    {
     "name": "stdout",
     "output_type": "stream",
     "text": [
      "mean =  0.06295507246376811\n"
     ]
    }
   ],
   "source": [
    "print(\"mean = \", CL_x_bar)"
   ]
  },
  {
   "cell_type": "markdown",
   "metadata": {},
   "source": [
    "## 6. The uniformity of a silicon wafer following an etching process is determined by measuring the layer thickness at several locations and expressing uniformity as the range of the thicknesses. The uniformity determinations for $30$ consecutive wafers processed through the etching tool are presented in the dataset. Is there evidence that uniformity is normally distributed?"
   ]
  },
  {
   "cell_type": "code",
   "execution_count": 81,
   "metadata": {},
   "outputs": [
    {
     "name": "stdout",
     "output_type": "stream",
     "text": [
      "Statistic: 1.158\n",
      "Critical Values: [0.521 0.593 0.712 0.83  0.988]\n",
      "Significance_level [15.  10.   5.   2.5  1. ]\n"
     ]
    },
    {
     "data": {
      "image/png": "[encoded data removed]",
      "text/plain": [
       "<Figure size 432x288 with 1 Axes>"
      ]
     },
     "metadata": {
      "needs_background": "light"
     },
     "output_type": "display_data"
    }
   ],
   "source": [
    "import scipy.stats as stat\n",
    "data = df['Layer thickness'].dropna()\n",
    "result=stat.anderson(data,'norm') #store results to improve output readability\n",
    "print('Statistic: %.3f' % result.statistic)\n",
    "print('Critical Values:',result.critical_values)\n",
    "print('Significance_level', result.significance_level)\n",
    "stat.probplot(data,plot=plt)\n",
    "plt.show()"
   ]
  },
  {
   "cell_type": "markdown",
   "metadata": {},
   "source": [
    "## 7. Take the natural logarithm of the data to make it normally distributed (check to see if that’s true!). Construct a control chart for individuals and a moving range control chart for uniformity for the etching process using the transformed data. Is the process in statistical control?"
   ]
  },
  {
   "cell_type": "code",
   "execution_count": 82,
   "metadata": {},
   "outputs": [
    {
     "name": "stdout",
     "output_type": "stream",
     "text": [
      "Statistic: 0.626\n",
      "Critical Values: [0.521 0.593 0.712 0.83  0.988]\n",
      "Significance_level [15.  10.   5.   2.5  1. ]\n"
     ]
    },
    {
     "data": {
      "image/png": "[encoded data removed]",
      "text/plain": [
       "<Figure size 432x288 with 1 Axes>"
      ]
     },
     "metadata": {
      "needs_background": "light"
     },
     "output_type": "display_data"
    }
   ],
   "source": [
    "a=df['Layer thickness'].dropna()\n",
    "ln_a=np.log(a)\n",
    "import scipy.stats as stat\n",
    "result=stat.anderson(ln_a,'norm') #store results to improve output readability\n",
    "print('Statistic: %.3f' % result.statistic)\n",
    "print('Critical Values:',result.critical_values)\n",
    "print('Significance_level', result.significance_level)\n",
    "stat.probplot(ln_a,plot=plt)\n",
    "plt.show()"
   ]
  },
  {
   "cell_type": "code",
   "execution_count": 83,
   "metadata": {},
   "outputs": [
    {
     "name": "stdout",
     "output_type": "stream",
     "text": [
      "0.3508855205640929 0 1.1463429956828914\n"
     ]
    }
   ],
   "source": [
    "# now use I-MR\n",
    "m=len(ln_a)\n",
    "MR_samples = []\n",
    "MR_acum=0\n",
    "for i in range (0,m-1):\n",
    "    MR = np.abs(ln_a[i+1]-ln_a[i])\n",
    "    MR_samples.append(MR)\n",
    "    MR_acum = MR_acum + MR\n",
    "\n",
    "MR_bar=MR_acum/(m-1)\n",
    "LCL=0\n",
    "UCL=3.267*MR_bar\n",
    "print(MR_bar,LCL,UCL)"
   ]
  },
  {
   "cell_type": "code",
   "execution_count": 84,
   "metadata": {},
   "outputs": [],
   "source": [
    "for i in range (0,m-1):\n",
    "    if(MR_samples[i]>=UCL):\n",
    "        print(i+1,'out of control')"
   ]
  },
  {
   "cell_type": "markdown",
   "metadata": {},
   "source": [
    "MR chart is in control"
   ]
  },
  {
   "cell_type": "markdown",
   "metadata": {},
   "source": [
    "I-Chart now:"
   ]
  },
  {
   "cell_type": "code",
   "execution_count": 85,
   "metadata": {},
   "outputs": [
    {
     "name": "stdout",
     "output_type": "stream",
     "text": [
      "1.719739710548112 2.653095195248599 3.586450679949086\n"
     ]
    }
   ],
   "source": [
    "X_bar = ln_a.mean()\n",
    "\n",
    "UCL=X_bar+2.660*MR_bar #E2\n",
    "LCL=X_bar-2.660*MR_bar\n",
    "\n",
    "\n",
    "print(LCL,X_bar,UCL)"
   ]
  },
  {
   "cell_type": "code",
   "execution_count": 88,
   "metadata": {},
   "outputs": [],
   "source": [
    "for i in range(0,m):\n",
    "    if (ln_a[i] > UCL) or (ln_a[i] < LCL):\n",
    "        print(i+1,'out of control')\n",
    "        \n"
   ]
  },
  {
   "cell_type": "markdown",
   "metadata": {},
   "source": [
    "I-chart is in control"
   ]
  },
  {
   "cell_type": "markdown",
   "metadata": {},
   "source": [
    "## 8. What is the value of MR-bar?"
   ]
  },
  {
   "cell_type": "code",
   "execution_count": 89,
   "metadata": {},
   "outputs": [
    {
     "name": "stdout",
     "output_type": "stream",
     "text": [
      "MR Bar = 0.3508855205640929\n"
     ]
    }
   ],
   "source": [
    "print(\"MR Bar =\",MR_bar )"
   ]
  },
  {
   "cell_type": "markdown",
   "metadata": {},
   "source": [
    "## 9. What is the estimate of the standard deviation for this process? (Consider the normally distributed data)."
   ]
  },
  {
   "cell_type": "code",
   "execution_count": 90,
   "metadata": {},
   "outputs": [
    {
     "name": "stdout",
     "output_type": "stream",
     "text": [
      "0.3110687239043377\n"
     ]
    }
   ],
   "source": [
    "print(MR_bar/1.128) # MR/d2"
   ]
  },
  {
   "cell_type": "markdown",
   "metadata": {},
   "source": [
    "## 10. What are the upper and lower control limits for the I-chart? (Consider the normally distributed data)."
   ]
  },
  {
   "cell_type": "code",
   "execution_count": 91,
   "metadata": {},
   "outputs": [
    {
     "name": "stdout",
     "output_type": "stream",
     "text": [
      "2.653095195248599 1.719739710548112 3.586450679949086\n"
     ]
    }
   ],
   "source": [
    "print(X_bar,LCL,UCL)"
   ]
  },
  {
   "cell_type": "markdown",
   "metadata": {},
   "source": [
    "## 11. What is the estimate of the mean for this process? (Consider the normally distributed data)."
   ]
  },
  {
   "cell_type": "code",
   "execution_count": 92,
   "metadata": {},
   "outputs": [
    {
     "name": "stdout",
     "output_type": "stream",
     "text": [
      "2.653095195248599\n"
     ]
    }
   ],
   "source": [
    "print(X_bar)"
   ]
  },
  {
   "cell_type": "markdown",
   "metadata": {},
   "source": [
    "## 12. Suppose the process mean shifts to $2.7$. What is the probability of detecting this shift on the X chart on the first subsequent sample? "
   ]
  },
  {
   "cell_type": "code",
   "execution_count": 93,
   "metadata": {},
   "outputs": [
    {
     "name": "stdout",
     "output_type": "stream",
     "text": [
      "0.9969944718041802\n",
      "0.0030055281958197844\n"
     ]
    }
   ],
   "source": [
    "n=1 # n is 1 when calculating beta for MR-I chart\n",
    "Delta=2.7-X_bar\n",
    "k=Delta/(MR_bar/1.128)\n",
    "Beta=stat.norm.cdf(3-k*np.sqrt(n),0,1)-stat.norm.cdf(-3-k*np.sqrt(n),0,1)\n",
    "print(Beta)\n",
    "print(1-Beta)"
   ]
  },
  {
   "cell_type": "markdown",
   "metadata": {},
   "source": [
    "## 13. What is the average run length for the shift described in the previous question?"
   ]
  },
  {
   "cell_type": "code",
   "execution_count": 94,
   "metadata": {},
   "outputs": [
    {
     "name": "stdout",
     "output_type": "stream",
     "text": [
      "332.7202191584302\n"
     ]
    }
   ],
   "source": [
    "ARL=1/(1-Beta)\n",
    "print(ARL)"
   ]
  },
  {
   "cell_type": "markdown",
   "metadata": {},
   "source": [
    "## 14. For the shift described previously, what is the probability of detecting this transformation on the $4^{th}$ sample after its occurrence?"
   ]
  },
  {
   "cell_type": "code",
   "execution_count": 95,
   "metadata": {},
   "outputs": [
    {
     "name": "stdout",
     "output_type": "stream",
     "text": [
      "0.0029785099636229976\n"
     ]
    }
   ],
   "source": [
    "Pr=Beta**3*(1-Beta)\n",
    "print(Pr)"
   ]
  },
  {
   "cell_type": "code",
   "execution_count": null,
   "metadata": {},
   "outputs": [],
   "source": []
  }
 ],
 "metadata": {
  "kernelspec": {
   "display_name": "Python 3",
   "language": "python",
   "name": "python3"
  },
  "language_info": {
   "codemirror_mode": {
    "name": "ipython",
    "version": 3
   },
   "file_extension": ".py",
   "mimetype": "text/x-python",
   "name": "python",
   "nbconvert_exporter": "python",
   "pygments_lexer": "ipython3",
   "version": "3.7.7"
  }
 },
 "nbformat": 4,
 "nbformat_minor": 4
}
