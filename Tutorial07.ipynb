{
 "cells": [
  {
   "cell_type": "markdown",
   "metadata": {},
   "source": [
    "# Python Solutions to Tutorial 07\n"
   ]
  },
  {
   "cell_type": "code",
   "execution_count": 1,
   "metadata": {},
   "outputs": [
    {
     "data": {
      "text/html": [
       "<div>\n",
       "<style scoped>\n",
       "    .dataframe tbody tr th:only-of-type {\n",
       "        vertical-align: middle;\n",
       "    }\n",
       "\n",
       "    .dataframe tbody tr th {\n",
       "        vertical-align: top;\n",
       "    }\n",
       "\n",
       "    .dataframe thead th {\n",
       "        text-align: right;\n",
       "    }\n",
       "</style>\n",
       "<table border=\"1\" class=\"dataframe\">\n",
       "  <thead>\n",
       "    <tr style=\"text-align: right;\">\n",
       "      <th></th>\n",
       "      <th>Sample</th>\n",
       "      <th>Vol</th>\n",
       "    </tr>\n",
       "  </thead>\n",
       "  <tbody>\n",
       "    <tr>\n",
       "      <th>0</th>\n",
       "      <td>1</td>\n",
       "      <td>6</td>\n",
       "    </tr>\n",
       "    <tr>\n",
       "      <th>1</th>\n",
       "      <td>1</td>\n",
       "      <td>9</td>\n",
       "    </tr>\n",
       "    <tr>\n",
       "      <th>2</th>\n",
       "      <td>1</td>\n",
       "      <td>10</td>\n",
       "    </tr>\n",
       "    <tr>\n",
       "      <th>3</th>\n",
       "      <td>1</td>\n",
       "      <td>15</td>\n",
       "    </tr>\n",
       "    <tr>\n",
       "      <th>4</th>\n",
       "      <td>2</td>\n",
       "      <td>10</td>\n",
       "    </tr>\n",
       "  </tbody>\n",
       "</table>\n",
       "</div>"
      ],
      "text/plain": [
       "   Sample  Vol\n",
       "0       1    6\n",
       "1       1    9\n",
       "2       1   10\n",
       "3       1   15\n",
       "4       2   10"
      ]
     },
     "execution_count": 1,
     "metadata": {},
     "output_type": "execute_result"
    }
   ],
   "source": [
    "import numpy as np\n",
    "import pandas as pd\n",
    "import scipy.stats as stat\n",
    "import matplotlib.pyplot as plt\n",
    "\n",
    "#url = 'https://raw.githubusercontent.com/APS1040/Tutorials/main/Tutorial07_data.csv'\n",
    "#df = pd.read_csv(url)\n",
    "\n",
    "df = pd.read_csv('Tutorial07_data.csv')\n",
    "df.head()"
   ]
  },
  {
   "cell_type": "markdown",
   "metadata": {},
   "source": [
    "## 1.\tA high-level voltage power supply should have a nominal output voltage of 350 V. A sample of four units is selected each day and tested for process control purposes. The data shown in the dataset give the difference between the observed reading on each unit and the nominal voltage times ten; that is, Vol_i= (observed voltage on unit i - 350)*10. Set up X-bar and R charts. Is the process in statistical control?"
   ]
  },
  {
   "cell_type": "code",
   "execution_count": 2,
   "metadata": {},
   "outputs": [
    {
     "name": "stdout",
     "output_type": "stream",
     "text": [
      "6.25\n",
      "0 14.2625\n"
     ]
    }
   ],
   "source": [
    "m = 20 \n",
    "R_accum = 0 \n",
    "Rs = [] \n",
    "\n",
    "for n in range (1,m+1):        \n",
    "    max = df.loc[df['Sample']==n,'Vol'].max()\n",
    "    min = df.loc[df['Sample']==n,'Vol'].min()\n",
    "    R = max-min\n",
    "    R_accum = R_accum + R\n",
    "    Rs.append(R)\n",
    "CL_R = R_accum/m\n",
    "print(CL_R)\n",
    "UCL_R = 2.282 * CL_R \n",
    "LCL_R = 0\n",
    "print(LCL_R, UCL_R)"
   ]
  },
  {
   "cell_type": "code",
   "execution_count": 3,
   "metadata": {},
   "outputs": [],
   "source": [
    "for n in range(1,m+1):\n",
    "    if Rs[n-1] >= UCL_R: \n",
    "         print(n, 'is out of bounds')"
   ]
  },
  {
   "cell_type": "code",
   "execution_count": 4,
   "metadata": {},
   "outputs": [
    {
     "name": "stdout",
     "output_type": "stream",
     "text": [
      "10.325\n",
      "14.881249999999998 5.76875\n"
     ]
    }
   ],
   "source": [
    "m = 20\n",
    "x_bar_accum = 0\n",
    "x_bars = []\n",
    "\n",
    "for n in range (1,m+1):        \n",
    "    x_bar = df.loc[df['Sample']==n,'Vol'].mean()\n",
    "    x_bars.append(x_bar)\n",
    "    x_bar_accum = x_bar_accum+x_bar\n",
    "\n",
    "CL_x_bar = x_bar_accum/m\n",
    "print(CL_x_bar)\n",
    "\n",
    "UCL_x_bar = CL_x_bar + 0.729 * CL_R # A2\n",
    "LCL_x_bar = CL_x_bar - 0.729 * CL_R # A2\n",
    "\n",
    "print(UCL_x_bar, LCL_x_bar)"
   ]
  },
  {
   "cell_type": "code",
   "execution_count": 5,
   "metadata": {},
   "outputs": [],
   "source": [
    "for n in range(1,m+1):\n",
    "    if (x_bars[n-1] > UCL_x_bar or x_bars[n-1] < LCL_x_bar ): \n",
    "         print(n, 'is out of bounds')"
   ]
  },
  {
   "cell_type": "markdown",
   "metadata": {},
   "source": [
    "It is in control"
   ]
  },
  {
   "cell_type": "markdown",
   "metadata": {},
   "source": [
    "## 2.\tWhat is the estimate of the process mean?"
   ]
  },
  {
   "cell_type": "code",
   "execution_count": 6,
   "metadata": {},
   "outputs": [
    {
     "name": "stdout",
     "output_type": "stream",
     "text": [
      "10.325\n"
     ]
    }
   ],
   "source": [
    "print(CL_x_bar)"
   ]
  },
  {
   "cell_type": "markdown",
   "metadata": {},
   "source": [
    "## 3.\tWhat is the estimate of the process standard deviation?"
   ]
  },
  {
   "cell_type": "code",
   "execution_count": 7,
   "metadata": {},
   "outputs": [
    {
     "name": "stdout",
     "output_type": "stream",
     "text": [
      "3.035454103933948\n"
     ]
    }
   ],
   "source": [
    "sigma = CL_R/2.059 #R_bar/d2\n",
    "print(sigma)"
   ]
  },
  {
   "cell_type": "markdown",
   "metadata": {},
   "source": [
    "## 4.\tWhat are the Natural Tolerance Limits for this process?"
   ]
  },
  {
   "cell_type": "code",
   "execution_count": 8,
   "metadata": {},
   "outputs": [
    {
     "name": "stdout",
     "output_type": "stream",
     "text": [
      "1.2186376881981538 19.431362311801845\n"
     ]
    }
   ],
   "source": [
    "ul = CL_x_bar+3*sigma\n",
    "ll = CL_x_bar-3*sigma\n",
    "print(ll,ul)"
   ]
  },
  {
   "cell_type": "markdown",
   "metadata": {},
   "source": [
    "## 5.\tIf the specifications are USL = 352V, LSL = 348V, what is the value of Cp? "
   ]
  },
  {
   "cell_type": "code",
   "execution_count": 9,
   "metadata": {},
   "outputs": [
    {
     "name": "stdout",
     "output_type": "stream",
     "text": [
      "2.196266666666667\n"
     ]
    }
   ],
   "source": [
    "cp = (20-(-20))/(6*sigma)\n",
    "print(cp)"
   ]
  },
  {
   "cell_type": "markdown",
   "metadata": {},
   "source": [
    "## 6.\tIs the basic capability requirement met (i.e., is the process capable)? Explain."
   ]
  },
  {
   "cell_type": "markdown",
   "metadata": {},
   "source": [
    "Yes it is met because cp > 1"
   ]
  },
  {
   "cell_type": "markdown",
   "metadata": {},
   "source": [
    "## 7.\tWhat is the process fallout? "
   ]
  },
  {
   "cell_type": "code",
   "execution_count": 10,
   "metadata": {},
   "outputs": [
    {
     "data": {
      "text/plain": [
       "717.9592415318403"
      ]
     },
     "execution_count": 10,
     "metadata": {},
     "output_type": "execute_result"
    }
   ],
   "source": [
    "# in ppm\n",
    "(stat.norm.cdf(-20, CL_x_bar,sigma)+1-stat.norm.cdf(20, CL_x_bar,sigma))*(10**6)"
   ]
  },
  {
   "cell_type": "markdown",
   "metadata": {},
   "source": [
    "## 8.\tWhat is the value of CPK? "
   ]
  },
  {
   "cell_type": "code",
   "execution_count": 11,
   "metadata": {},
   "outputs": [
    {
     "name": "stdout",
     "output_type": "stream",
     "text": [
      "1.0624440000000002\n"
     ]
    }
   ],
   "source": [
    "cpu = (20-CL_x_bar)/(3*sigma)\n",
    "cpl = (CL_x_bar-(-20))/(3*sigma)\n",
    "cpk = min(cpu,cpl)\n",
    "print(cpk)"
   ]
  },
  {
   "cell_type": "markdown",
   "metadata": {},
   "source": [
    "## 9.\tWhat is the best approximation of the process fallout if you calculate using CPK? "
   ]
  },
  {
   "cell_type": "code",
   "execution_count": 12,
   "metadata": {},
   "outputs": [
    {
     "data": {
      "text/plain": [
       "717.9592415318403"
      ]
     },
     "execution_count": 12,
     "metadata": {},
     "output_type": "execute_result"
    }
   ],
   "source": [
    "# approximate using c_pk\n",
    "(1-stat.norm.cdf(3*cpk, 0,1))*(10**6)"
   ]
  },
  {
   "cell_type": "markdown",
   "metadata": {},
   "source": [
    "## 10.\tIs the process centred? Explain."
   ]
  },
  {
   "cell_type": "markdown",
   "metadata": {},
   "source": [
    "No, a process is centered if cpl=cpu"
   ]
  },
  {
   "cell_type": "code",
   "execution_count": 13,
   "metadata": {},
   "outputs": [
    {
     "name": "stdout",
     "output_type": "stream",
     "text": [
      "3.3300893333333335 1.0624440000000002\n",
      "False\n"
     ]
    }
   ],
   "source": [
    "print(cpl, cpu)\n",
    "print(cpl == cpu)"
   ]
  },
  {
   "cell_type": "markdown",
   "metadata": {},
   "source": [
    "## 11.\tWhat is the value of CPM? "
   ]
  },
  {
   "cell_type": "code",
   "execution_count": 14,
   "metadata": {},
   "outputs": [
    {
     "name": "stdout",
     "output_type": "stream",
     "text": [
      "0.6194663187960908\n"
     ]
    }
   ],
   "source": [
    "t = (20+(-20))/2\n",
    "cpm = cp/(np.sqrt(1+( (CL_x_bar-t)/sigma )**2 ))\n",
    "print(cpm)"
   ]
  },
  {
   "cell_type": "code",
   "execution_count": null,
   "metadata": {},
   "outputs": [],
   "source": []
  }
 ],
 "metadata": {
  "kernelspec": {
   "display_name": "Python 3",
   "language": "python",
   "name": "python3"
  },
  "language_info": {
   "codemirror_mode": {
    "name": "ipython",
    "version": 3
   },
   "file_extension": ".py",
   "mimetype": "text/x-python",
   "name": "python",
   "nbconvert_exporter": "python",
   "pygments_lexer": "ipython3",
   "version": "3.7.7"
  }
 },
 "nbformat": 4,
 "nbformat_minor": 4
}
